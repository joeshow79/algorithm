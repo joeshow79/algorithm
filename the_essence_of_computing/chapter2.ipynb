{
 "cells": [
  {
   "cell_type": "markdown",
   "metadata": {
    "slideshow": {
     "slide_type": "slide"
    }
   },
   "source": [
    "# Chapter 2. 逆向思维--从递推到递归\n",
    "***\n",
    "\n",
    "## 概要\n",
    "### 2.1 递归：计算思维的核心\n",
    "### 2.2 遍历：递归思想的典型应用\n",
    "### 2.3 堆栈和队列：遍历的数据结构\n",
    "### 2.4 嵌套：自然语言的结构特征\n",
    "\n",
    "***\n",
    "<div align=\"right\">\n",
    "    <em>2022-01-12</em>\n",
    "</div>"
   ]
  },
  {
   "cell_type": "code",
   "execution_count": 113,
   "metadata": {
    "slideshow": {
     "slide_type": "notes"
    }
   },
   "outputs": [
    {
     "name": "stdout",
     "output_type": "stream",
     "text": [
      "Requirement already satisfied: RISE in /usr/local/lib/python3.6/site-packages (5.7.1)\n",
      "Requirement already satisfied: notebook>=6.0 in /usr/local/lib/python3.6/site-packages (from RISE) (6.4.6)\n",
      "Requirement already satisfied: tornado>=6.1 in /usr/local/lib/python3.6/site-packages (from notebook>=6.0->RISE) (6.1)\n",
      "Requirement already satisfied: ipykernel in /usr/local/lib/python3.6/site-packages (from notebook>=6.0->RISE) (5.5.6)\n",
      "Requirement already satisfied: jupyter-core>=4.6.1 in /usr/local/lib/python3.6/site-packages (from notebook>=6.0->RISE) (4.9.1)\n",
      "Requirement already satisfied: prometheus-client in /usr/local/lib/python3.6/site-packages (from notebook>=6.0->RISE) (0.12.0)\n",
      "Requirement already satisfied: nbformat in /usr/local/lib/python3.6/site-packages (from notebook>=6.0->RISE) (5.1.3)\n",
      "Requirement already satisfied: pyzmq>=17 in /usr/local/lib/python3.6/site-packages (from notebook>=6.0->RISE) (22.3.0)\n",
      "Requirement already satisfied: traitlets>=4.2.1 in /usr/local/lib/python3.6/site-packages (from notebook>=6.0->RISE) (4.3.3)\n",
      "Requirement already satisfied: nbconvert in /usr/local/lib/python3.6/site-packages (from notebook>=6.0->RISE) (6.0.7)\n",
      "Requirement already satisfied: ipython-genutils in /usr/local/lib/python3.6/site-packages (from notebook>=6.0->RISE) (0.2.0)\n",
      "Requirement already satisfied: jinja2 in /usr/local/lib/python3.6/site-packages (from notebook>=6.0->RISE) (3.0.3)\n",
      "Requirement already satisfied: nest-asyncio>=1.5 in /usr/local/lib/python3.6/site-packages (from notebook>=6.0->RISE) (1.5.4)\n",
      "Requirement already satisfied: jupyter-client>=5.3.4 in /usr/local/lib/python3.6/site-packages (from notebook>=6.0->RISE) (7.1.0)\n",
      "Requirement already satisfied: argon2-cffi in /usr/local/lib/python3.6/site-packages (from notebook>=6.0->RISE) (21.3.0)\n",
      "Requirement already satisfied: terminado>=0.8.3 in /usr/local/lib/python3.6/site-packages (from notebook>=6.0->RISE) (0.12.1)\n",
      "Requirement already satisfied: Send2Trash>=1.8.0 in /usr/local/lib/python3.6/site-packages (from notebook>=6.0->RISE) (1.8.0)\n",
      "Requirement already satisfied: ipython>=5.0.0 in /usr/local/lib/python3.6/site-packages (from ipykernel->notebook>=6.0->RISE) (7.16.2)\n",
      "Requirement already satisfied: jsonschema!=2.5.0,>=2.4 in /usr/local/lib/python3.6/site-packages (from nbformat->notebook>=6.0->RISE) (3.2.0)\n",
      "Requirement already satisfied: six in /usr/local/lib/python3.6/site-packages (from traitlets>=4.2.1->notebook>=6.0->RISE) (1.16.0)\n",
      "Requirement already satisfied: decorator in /usr/local/lib/python3.6/site-packages (from traitlets>=4.2.1->notebook>=6.0->RISE) (5.1.0)\n",
      "Requirement already satisfied: bleach in /usr/local/lib/python3.6/site-packages (from nbconvert->notebook>=6.0->RISE) (4.1.0)\n",
      "Requirement already satisfied: nbclient<0.6.0,>=0.5.0 in /usr/local/lib/python3.6/site-packages (from nbconvert->notebook>=6.0->RISE) (0.5.9)\n",
      "Requirement already satisfied: mistune<2,>=0.8.1 in /usr/local/lib/python3.6/site-packages (from nbconvert->notebook>=6.0->RISE) (0.8.4)\n",
      "Requirement already satisfied: jupyterlab-pygments in /usr/local/lib/python3.6/site-packages (from nbconvert->notebook>=6.0->RISE) (0.1.2)\n",
      "Requirement already satisfied: entrypoints>=0.2.2 in /usr/local/lib/python3.6/site-packages (from nbconvert->notebook>=6.0->RISE) (0.3)\n",
      "Requirement already satisfied: defusedxml in /usr/local/lib/python3.6/site-packages (from nbconvert->notebook>=6.0->RISE) (0.7.1)\n",
      "Requirement already satisfied: testpath in /usr/local/lib/python3.6/site-packages (from nbconvert->notebook>=6.0->RISE) (0.5.0)\n",
      "Requirement already satisfied: pygments>=2.4.1 in /usr/local/lib/python3.6/site-packages (from nbconvert->notebook>=6.0->RISE) (2.10.0)\n",
      "Requirement already satisfied: pandocfilters>=1.4.1 in /usr/local/lib/python3.6/site-packages (from nbconvert->notebook>=6.0->RISE) (1.5.0)\n",
      "Requirement already satisfied: MarkupSafe>=2.0 in /usr/local/lib/python3.6/site-packages (from jinja2->notebook>=6.0->RISE) (2.0.1)\n",
      "Requirement already satisfied: python-dateutil>=2.1 in /usr/local/lib/python3.6/site-packages (from jupyter-client>=5.3.4->notebook>=6.0->RISE) (2.8.2)\n",
      "Requirement already satisfied: dataclasses; python_version < \"3.7\" in /usr/local/lib/python3.6/site-packages (from argon2-cffi->notebook>=6.0->RISE) (0.8)\n",
      "Requirement already satisfied: typing-extensions; python_version < \"3.8\" in /usr/local/lib/python3.6/site-packages (from argon2-cffi->notebook>=6.0->RISE) (4.0.1)\n",
      "Requirement already satisfied: argon2-cffi-bindings in /usr/local/lib/python3.6/site-packages (from argon2-cffi->notebook>=6.0->RISE) (21.2.0)\n",
      "Requirement already satisfied: ptyprocess; os_name != \"nt\" in /usr/local/lib/python3.6/site-packages (from terminado>=0.8.3->notebook>=6.0->RISE) (0.7.0)\n",
      "Requirement already satisfied: pexpect; sys_platform != \"win32\" in /usr/local/lib/python3.6/site-packages (from ipython>=5.0.0->ipykernel->notebook>=6.0->RISE) (4.8.0)\n",
      "Requirement already satisfied: backcall in /usr/local/lib/python3.6/site-packages (from ipython>=5.0.0->ipykernel->notebook>=6.0->RISE) (0.2.0)\n",
      "Requirement already satisfied: setuptools>=18.5 in /usr/local/lib/python3.6/site-packages (from ipython>=5.0.0->ipykernel->notebook>=6.0->RISE) (46.1.3)\n",
      "Requirement already satisfied: jedi<=0.17.2,>=0.10 in /usr/local/lib/python3.6/site-packages (from ipython>=5.0.0->ipykernel->notebook>=6.0->RISE) (0.17.2)\n",
      "Requirement already satisfied: prompt-toolkit!=3.0.0,!=3.0.1,<3.1.0,>=2.0.0 in /usr/local/lib/python3.6/site-packages (from ipython>=5.0.0->ipykernel->notebook>=6.0->RISE) (3.0.24)\n",
      "Requirement already satisfied: pickleshare in /usr/local/lib/python3.6/site-packages (from ipython>=5.0.0->ipykernel->notebook>=6.0->RISE) (0.7.5)\n",
      "Requirement already satisfied: attrs>=17.4.0 in /usr/local/lib/python3.6/site-packages (from jsonschema!=2.5.0,>=2.4->nbformat->notebook>=6.0->RISE) (21.3.0)\n",
      "Requirement already satisfied: pyrsistent>=0.14.0 in /usr/local/lib/python3.6/site-packages (from jsonschema!=2.5.0,>=2.4->nbformat->notebook>=6.0->RISE) (0.18.0)\n",
      "Requirement already satisfied: importlib-metadata; python_version < \"3.8\" in /usr/local/lib/python3.6/site-packages (from jsonschema!=2.5.0,>=2.4->nbformat->notebook>=6.0->RISE) (4.8.3)\n",
      "Requirement already satisfied: webencodings in /usr/local/lib/python3.6/site-packages (from bleach->nbconvert->notebook>=6.0->RISE) (0.5.1)\n",
      "Requirement already satisfied: packaging in /usr/local/lib/python3.6/site-packages (from bleach->nbconvert->notebook>=6.0->RISE) (21.3)\n",
      "Requirement already satisfied: async-generator; python_version < \"3.7\" in /usr/local/lib/python3.6/site-packages (from nbclient<0.6.0,>=0.5.0->nbconvert->notebook>=6.0->RISE) (1.10)\n",
      "Requirement already satisfied: cffi>=1.0.1 in /usr/local/lib/python3.6/site-packages (from argon2-cffi-bindings->argon2-cffi->notebook>=6.0->RISE) (1.15.0)\n",
      "Requirement already satisfied: parso<0.8.0,>=0.7.0 in /usr/local/lib/python3.6/site-packages (from jedi<=0.17.2,>=0.10->ipython>=5.0.0->ipykernel->notebook>=6.0->RISE) (0.7.1)\n",
      "Requirement already satisfied: wcwidth in /usr/local/lib/python3.6/site-packages (from prompt-toolkit!=3.0.0,!=3.0.1,<3.1.0,>=2.0.0->ipython>=5.0.0->ipykernel->notebook>=6.0->RISE) (0.2.5)\n",
      "Requirement already satisfied: zipp>=0.5 in /usr/local/lib/python3.6/site-packages (from importlib-metadata; python_version < \"3.8\"->jsonschema!=2.5.0,>=2.4->nbformat->notebook>=6.0->RISE) (3.6.0)\n",
      "Requirement already satisfied: pyparsing!=3.0.5,>=2.0.2 in /usr/local/lib/python3.6/site-packages (from packaging->bleach->nbconvert->notebook>=6.0->RISE) (3.0.6)\n",
      "Requirement already satisfied: pycparser in /usr/local/lib/python3.6/site-packages (from cffi>=1.0.1->argon2-cffi-bindings->argon2-cffi->notebook>=6.0->RISE) (2.21)\n",
      "\u001b[33mWARNING: You are using pip version 20.0.2; however, version 21.3.1 is available.\n",
      "You should consider upgrading via the '/usr/local/bin/python -m pip install --upgrade pip' command.\u001b[0m\n",
      "Requirement already satisfied: graphviz in /usr/local/lib/python3.6/site-packages (0.19.1)\n",
      "\u001b[33mWARNING: You are using pip version 20.0.2; however, version 21.3.1 is available.\n",
      "You should consider upgrading via the '/usr/local/bin/python -m pip install --upgrade pip' command.\u001b[0m\n"
     ]
    }
   ],
   "source": [
    "!pip install RISE # for ppt\n",
    "!pip install graphviz  \n",
    "from graphviz import Digraph "
   ]
  },
  {
   "cell_type": "markdown",
   "metadata": {
    "slideshow": {
     "slide_type": "skip"
    }
   },
   "source": [
    "![t](./assets/img/chapter2_mind.png)"
   ]
  },
  {
   "cell_type": "markdown",
   "metadata": {
    "slideshow": {
     "slide_type": "slide"
    }
   },
   "source": [
    "## 2.0 渐进（asymptotic）符号\n",
    "***\n",
    "* 紧确界 $\\Theta$ ：$\\Theta(n^2)$\n",
    "* 上界 $O$： $O(n^2),   O(nlg^n)$\n",
    "* 非紧上界$o$\n",
    "* 下界$\\Omega$:   $\\Omega(n)$\n",
    "* 非紧下界$\\omega$"
   ]
  },
  {
   "cell_type": "markdown",
   "metadata": {
    "slideshow": {
     "slide_type": "subslide"
    }
   },
   "source": [
    "## 2.0 渐进（asymptotic）符号\n",
    "***\n",
    "* 紧确界 $\\Theta$\n",
    "\n",
    "$\\Theta(g(n))=\\{f(n): 存在正常数c_1，c_2 和 n_0， 使对所有的 n >= n_0, 有 0 <= c_1g(n) <= f(n) <= c_2g(n)\\}$\n",
    "\n",
    "* 上界 $O$\n",
    "\n",
    "$O(g(n))=\\{f(n): 存在正常数c 和 n_0， 使对所有的 n >= n_0, 有 0 <= f(n) <= cg(n)\\}$\n",
    "\n",
    "* 非紧上界 $o$\n",
    "\n",
    "$o(g(n))=\\{f(n): 存在正常数c 和 n_0， 使对所有的 n >= n_0, 有 0 <= f(n) < cg(n)\\}$\n",
    "\n",
    "* 下界 $\\Omega$\n",
    "\n",
    "$\\Omega(g(n))=\\{f(n): 存在正常数c， 使对所有的 n >= n_0, 有 0 <= cg(n) <= f(n) \\}$\n",
    "\n",
    "* 非紧下界 $\\omega$\n",
    "\n",
    "$\\Omega(g(n))=\\{f(n): 存在正常数c， 使对所有的 n >= n_0, 有 0 <= cg(n) < f(n) \\}$\n",
    "\n"
   ]
  },
  {
   "cell_type": "markdown",
   "metadata": {
    "slideshow": {
     "slide_type": "subslide"
    }
   },
   "source": [
    "## 2.0 渐进（asymptotic）符号\n",
    "***\n",
    "<img style=\"float: center;\" src=\"./assets/img/func_trend.png\" width=800 height=600 align=\"center\">\n",
    "<center>Introduction to Algorithms</center>"
   ]
  },
  {
   "cell_type": "markdown",
   "metadata": {
    "slideshow": {
     "slide_type": "subslide"
    }
   },
   "source": [
    "## 2.0 渐进（asymptotic）符号\n",
    "***\n",
    "<img style=\"float: center;\" src=\"./assets/img/func_trend.png\" width=800 height=600 align=\"center\">\n",
    "<center>Introduction to Algorithms</center>\n",
    "* 紧确界 $\\Theta$\n",
    "\n",
    "$\\Theta(g(n))=\\{f(n): 存在正常数c_1，c_2 和 n_0， 使对所有的 n >= n_0, 有 0 <= c_1g(n) <= f(n) <= c_2g(n)\\}$\n"
   ]
  },
  {
   "cell_type": "markdown",
   "metadata": {
    "slideshow": {
     "slide_type": "subslide"
    }
   },
   "source": [
    "## 2.0 渐进（asymptotic）符号\n",
    "***\n",
    "<img style=\"float: center;\" src=\"./assets/img/func_trend.png\" width=800 height=600 align=\"center\">\n",
    "<center>Introduction to Algorithms</center>\n",
    "*  上界 $O$\n",
    "\n",
    "$O(g(n))=\\{f(n): 存在正常数c 和 n_0， 使对所有的 n >= n_0, 有 0 <= f(n) <= cg(n)\\}$\n",
    "    \n",
    "    \n",
    "* 非紧上界 $o$\n",
    "\n",
    "$o(g(n))=\\{f(n): 存在正常数c 和 n_0， 使对所有的 n >= n_0, 有 0 <= f(n) < cg(n)\\}$\n"
   ]
  },
  {
   "cell_type": "markdown",
   "metadata": {
    "slideshow": {
     "slide_type": "subslide"
    }
   },
   "source": [
    "## 2.0 渐进（asymptotic）符号\n",
    "***\n",
    "<img style=\"float: center;\" src=\"./assets/img/func_trend.png\" width=800 height=600 align=\"center\">\n",
    "<center>Introduction to Algorithms</center>\n",
    "* 下界 $\\Omega$\n",
    "\n",
    "$\\Omega(g(n))=\\{f(n): 存在正常数c， 使对所有的 n >= n_0, 有 0 <= cg(n) <= f(n) \\}$\n",
    "    \n",
    "* 非紧下界 $\\omega$\n",
    "\n",
    "$\\Omega(g(n))=\\{f(n): 存在正常数c， 使对所有的 n >= n_0, 有 0 <= cg(n) < f(n) \\}$\n"
   ]
  },
  {
   "cell_type": "markdown",
   "metadata": {
    "slideshow": {
     "slide_type": "slide"
    }
   },
   "source": [
    "## 2.1 递归：计算思维的核心\n",
    "***\n",
    "|属性 | 递推(Iterative) | 递归(Recursive) |\n",
    "|--- | --- | --- |\n",
    "|特点 | 从小到大，从易到难，由局部到整体 | 从大到小，从难到易，由整体到局部 |\n",
    "|优点 | 直观，易理解| 1. 只要解决当前一步的问题，就能解决全部的问题 |\n",
    "|优点 | | 2. 解题过程可复制 |\n",
    "|条件 |每一个问题的形式相同 | 1. 每一个问题的形式相同 |\n",
    "|条件 | | 2. 确定好结束条件 |\n",
    "|例子 | 2! -> 5! -> 100! | 100! = 100 * 99! |\n",
    "\n"
   ]
  },
  {
   "cell_type": "markdown",
   "metadata": {
    "slideshow": {
     "slide_type": "slide"
    }
   },
   "source": [
    "### 抢20问题\n",
    "***\n",
    "你和一位对手来做一个游戏。\n",
    "\n",
    "你们其中的一个人先从1和2中挑一个数字，另一个则在对方的基础上选择加1或者加2。\n",
    "\n",
    "然后又轮到先前的人，你或者他可以再次选择加1或者加2。\n",
    "\n",
    "之后双方交替的选择加1或者加2，谁正好加到20，谁就赢了。\n",
    "\n",
    "你用什么策略来保证一定赢？\n"
   ]
  },
  {
   "cell_type": "markdown",
   "metadata": {
    "slideshow": {
     "slide_type": "subslide"
    }
   },
   "source": [
    "### 抢20问题\n",
    "***\n",
    "递归：要抢到20，只要保证能抢到17\n",
    "\n",
    "17"
   ]
  },
  {
   "cell_type": "markdown",
   "metadata": {
    "slideshow": {
     "slide_type": "subslide"
    }
   },
   "source": [
    "### 抢20问题\n",
    "***\n",
    "递归：要抢到17，只要保证能抢到14\n",
    "\n",
    "17\n",
    "14\n"
   ]
  },
  {
   "cell_type": "markdown",
   "metadata": {
    "slideshow": {
     "slide_type": "subslide"
    }
   },
   "source": [
    "### 抢20问题\n",
    "***\n",
    "递归：最终推出，只要能抢到2就能保证抢到20\n",
    "\n",
    "17\n",
    "14\n",
    "11\n",
    "8\n",
    "5\n",
    "2"
   ]
  },
  {
   "cell_type": "markdown",
   "metadata": {
    "slideshow": {
     "slide_type": "slide"
    }
   },
   "source": [
    "### 上台阶问题\n",
    "***\n",
    "按照`抢20问题`的方法，从1开始（以1为七点）加到20，每次可以增加1或者2，有多少种不同的增加方法？比如<br>\n",
    "1、4、7、10、12、15、18、20是一种,<br>\n",
    "1、2、5、8、11、14、17、20又是一种。<br>\n",
    "我们想知道这样不同的过程由多少种。"
   ]
  },
  {
   "cell_type": "markdown",
   "metadata": {
    "slideshow": {
     "slide_type": "subslide"
    }
   },
   "source": [
    "### 上台阶问题\n",
    "***\n",
    "先看答案\n",
    "\n",
    "$F(n)=\\frac{(\\frac{(1+\\sqrt5)}{2})^n-(\\frac{(1-\\sqrt5)}{2})^n}{\\sqrt5}$\n",
    "\n",
    "如果使用归纳法，很难推到出此公式，但是使用递归方法就很容易"
   ]
  },
  {
   "cell_type": "markdown",
   "metadata": {
    "slideshow": {
     "slide_type": "subslide"
    }
   },
   "source": [
    "### 上台阶问题\n",
    "***\n",
    "**递归方法**\n",
    "\n",
    "$F(20) = F(19) + F(18)$<br>\n",
    "$F(19) = F(18) + F(17)$<br>\n",
    "$F(18) = F(17) + F(16)$<br>\n",
    "...<br>\n",
    "...<br>\n",
    "$F(1) = 1$<br>\n",
    "$F(0) = 1$\n",
    "\n",
    "**斐波那契数列！**\n",
    "\n",
    "[Fibonacci number from Wikipedia](https://en.wikipedia.org/wiki/Fibonacci_number)"
   ]
  },
  {
   "cell_type": "code",
   "execution_count": 114,
   "metadata": {
    "slideshow": {
     "slide_type": "subslide"
    }
   },
   "outputs": [
    {
     "name": "stdout",
     "output_type": "stream",
     "text": [
      "fib(20):6765\n",
      "num_of_ways_to_n(n):6765\n"
     ]
    }
   ],
   "source": [
    "import math\n",
    "\n",
    "def fib(n):\n",
    "    if n < 2:\n",
    "        return n\n",
    "    \n",
    "    return fib(n-1) + fib(n-2)\n",
    "\n",
    "def num_of_ways_to_n(n):\n",
    "    return math.floor(((((1 + math.sqrt(5))/2)**n) - (((1 - math.sqrt(5))/2)**n))/math.sqrt(5))\n",
    "\n",
    "print('fib(20):{}'.format(fib(20)))\n",
    "print('num_of_ways_to_n(n):{}'.format(num_of_ways_to_n(20)))"
   ]
  },
  {
   "cell_type": "markdown",
   "metadata": {
    "slideshow": {
     "slide_type": "slide"
    }
   },
   "source": [
    "### 汉诺塔\n",
    "***\n",
    "\n",
    "汉诺塔（港台：河内塔）（Tower of Hanoi）是根据一个传说形成的数学问题：\n",
    "\n",
    "有三根杆子A，B，C。A杆上有 64 个 (N>1) 穿孔圆盘，盘的尺寸由下到上依次变小。要求按下列规则将所有圆盘移至 C 杆：\n",
    "\n",
    "每次只能移动一个圆盘；\n",
    "大盘不能叠在小盘上面。\n",
    "提示：可将圆盘临时置于 B 杆，也可将从 A 杆移出的圆盘重新移回 A 杆，但都必须遵循上述两条规则。\n",
    "\n",
    "问：如何移？最少要移动多少次？\n",
    "![](./assets/img/tower_of_hanoi.jpg)"
   ]
  },
  {
   "cell_type": "markdown",
   "metadata": {
    "slideshow": {
     "slide_type": "subslide"
    }
   },
   "source": [
    "### 汉诺塔\n",
    "***\n",
    "<img style=\"float: right;\" src=\"./assets/img/hanoi_demo_3.png\" width=400 height=600 align=\"center\">"
   ]
  },
  {
   "cell_type": "markdown",
   "metadata": {
    "slideshow": {
     "slide_type": "subslide"
    }
   },
   "source": [
    "### 汉诺塔\n",
    "***\n",
    "### 汉诺塔递归解法调用示意图\n",
    "<img style=\"float: right;\" src=\"./assets/img/hanoi_recursion.jpg\" width=900 height=600 align=\"center\">"
   ]
  },
  {
   "cell_type": "markdown",
   "metadata": {
    "slideshow": {
     "slide_type": "subslide"
    }
   },
   "source": [
    "### 汉诺塔\n",
    "***\n",
    "### 汉诺塔递归解法调用示意图\n",
    "<img style=\"float: right;\" src=\"./assets/img/hanoi_recursion.jpg\" width=900 height=600  align=\"center\">\n",
    "\n",
    "移动次数：$S(64) = 2S(63) + 1 = 2^{64} - 1$"
   ]
  },
  {
   "cell_type": "code",
   "execution_count": 115,
   "metadata": {
    "slideshow": {
     "slide_type": "subslide"
    }
   },
   "outputs": [],
   "source": [
    "def hanoi(n, src, dest, temp, counter, is_print=False):\n",
    "    if n == 1:\n",
    "        if is_print:\n",
    "            print(src, '-->', dest)\n",
    "        counter = counter + 1\n",
    "        return counter\n",
    "    else:\n",
    "        counter = hanoi(n - 1, src, temp, dest, counter, is_print)\n",
    "        counter = hanoi(1    , src, dest, temp, counter, is_print)\n",
    "        counter = hanoi(n - 1, temp, dest, src, counter, is_print)\n",
    "        \n",
    "    return counter\n"
   ]
  },
  {
   "cell_type": "code",
   "execution_count": 116,
   "metadata": {
    "slideshow": {
     "slide_type": "subslide"
    }
   },
   "outputs": [
    {
     "name": "stdout",
     "output_type": "stream",
     "text": [
      "A --> B\n",
      "A --> T\n",
      "B --> T\n",
      "A --> B\n",
      "T --> A\n",
      "T --> B\n",
      "A --> B\n",
      "Total moving 7 steps for hanoi tower of 3 disks.\n"
     ]
    }
   ],
   "source": [
    "counter  = 0\n",
    "N = 3\n",
    "\n",
    "counter = hanoi(N, 'A', 'B', 'T', counter, is_print=True)\n",
    "print('Total moving {} steps for hanoi tower of {} disks.'.format(counter, N))"
   ]
  },
  {
   "cell_type": "code",
   "execution_count": 117,
   "metadata": {
    "slideshow": {
     "slide_type": "subslide"
    }
   },
   "outputs": [
    {
     "name": "stdout",
     "output_type": "stream",
     "text": [
      "Total moving 65535 steps for hanoi tower of 16 disks.\n"
     ]
    }
   ],
   "source": [
    "counter  = 0\n",
    "N = 16\n",
    "\n",
    "counter = hanoi(N, 'A', 'B', 'T', counter)\n",
    "print('Total moving {} steps for hanoi tower of {} disks.'.format(counter, N))"
   ]
  },
  {
   "cell_type": "markdown",
   "metadata": {
    "slideshow": {
     "slide_type": "slide"
    }
   },
   "source": [
    "### 八皇后问题\n",
    "***\n",
    "这个问题是19世纪的一位国际象棋手Max Bethel提出的，讲的是在8x8格的国际象棋上摆放8个皇后，使其不会互相攻击，问有多少种摆法？怎么摆？\n",
    "\n",
    "<img style=\"float: center;\" src=\"./assets/img/sample-queen-8.png\" width=600 height=600  align=\"center\">\n"
   ]
  },
  {
   "cell_type": "markdown",
   "metadata": {
    "slideshow": {
     "slide_type": "subslide"
    }
   },
   "source": [
    "### 八皇后问题\n",
    "***\n",
    "<code>\n",
    " // 一列一列的放置皇后 // 棋盘上当前已经摆放的皇后的状态存放再board这个数组中\n",
    "// 在row行column列放入一个皇后之后，我们会调用一个函数isValid（） // 检查当下棋盘状态是否合法。\n",
    "boolean Find8QueenSolution(int board[], int column) {\n",
    "  if (所有列都放好了）\n",
    "      return true;    \n",
    "  for each row of the board {\n",
    "      if isValid(board, row, column) {\n",
    "          board[column] = row;  // 在棋盘的row行column列放一个皇后 // 递归调用该函数本身，看看是否在下一列依然能找到函数的摆放位置\n",
    "          // 如果可以，说明到第column列的摆放是合法的 // 如果不可以，说明不能在第row行column列放一个皇后\n",
    "          // 如果这一列找不到一个合适的摆放位置 // 要回溯到上一列，重新测试新的位置\n",
    "          if (Find8QueenSolution(board, column+1)) {\n",
    "              return true;\n",
    "          } else {\n",
    "              board[column] = 0;  // 把row行column列的皇后拿走\n",
    "          }\n",
    "      }\n",
    "  }\n",
    "  return false;  \n",
    "}\n",
    "</code>"
   ]
  },
  {
   "cell_type": "markdown",
   "metadata": {
    "slideshow": {
     "slide_type": "subslide"
    }
   },
   "source": [
    "### 八皇后问题\n",
    "***\n",
    "<table>\n",
    "    <tr>\n",
    "        <td>\n",
    "            <img style=\"float: center;\" src=\"./assets/img/sample-queen-8.png\" width=800 height=800  align=\"center\">\n",
    "        </td>\n",
    "        <td>\n",
    "            <img style=\"float: center;\" src=\"./assets/img/queen8_backtrack.gif\" width=800 height=600  align=\"center\">\n",
    "            <br>\n",
    "            <center>MIT6.172</center>\n",
    "        </td>\n",
    "    </tr>\n",
    "</table>"
   ]
  },
  {
   "cell_type": "markdown",
   "metadata": {
    "slideshow": {
     "slide_type": "subslide"
    }
   },
   "source": [
    "### 八皇后问题\n",
    "***\n",
    "<table>\n",
    "    <tr>\n",
    "        <td>\n",
    "            <img style=\"float: center;\" src=\"./assets/img/MIT6_172F18_lec3-60.jpg\" width=400 height=300  align=\"center\">\n",
    "        </td>\n",
    "        <td>\n",
    "            <img style=\"float: center;\" src=\"./assets/img/MIT6_172F18_lec3-61.jpg\" width=400 height=300  align=\"center\">\n",
    "        </td>\n",
    "        <td>\n",
    "            <img style=\"float: center;\" src=\"./assets/img/MIT6_172F18_lec3-62.jpg\" width=400 height=300  align=\"center\">\n",
    "        </td>\n",
    "    </tr>\n",
    "    \n",
    "\n",
    "</table>\n",
    "\n",
    "<center>MIT6.172</center>"
   ]
  },
  {
   "cell_type": "code",
   "execution_count": 118,
   "metadata": {
    "slideshow": {
     "slide_type": "subslide"
    }
   },
   "outputs": [],
   "source": [
    "# 逐行以列递增的方式扫描棋盘，board是一个长度为8的数组，里面记录每一行（board下标指示）中合法放置（至少在扫描时点依然为合法）的皇后的列数\n",
    "# 根据board的内容返回down, left, right 3个bit code\n",
    "def GetBitCodeOfBoard(board, N=8): \n",
    "    bitcode_d = 0x0 # effective bit len: N\n",
    "    bitcode_l = 0x0 # effective bit len: 2N -1 \n",
    "    bitcode_r = 0x0 # effective bit len: 2N -1 \n",
    "    \n",
    "    for row, col in enumerate(board): \n",
    "        if col != None:\n",
    "            bitcode_d |= (1 << col)\n",
    "            bitcode_l |= (1 << (row + col))\n",
    "            bitcode_r |= (1 << (N - 1 - row + col))\n",
    "    \n",
    "    return (bitcode_d, bitcode_l, bitcode_r)\n",
    "\n",
    "def IsSolutionFound(board, N=8):\n",
    "    if board[N-1] != None:  # last row is set, then all set\n",
    "        return True\n",
    "    \n",
    "    return False\n",
    "\n",
    "def IsSafeStep(board, row, col, N=8):\n",
    "    bitcode_d, bitcode_l, bitcode_r = GetBitCodeOfBoard(board)\n",
    "    \n",
    "    if (bitcode_d & (1<<col)) != 0:\n",
    "        return False\n",
    "    if (bitcode_l &  (1 << (row + col))) != 0:\n",
    "        return False\n",
    "    if (bitcode_r & (1 << (N -1 - row + col))) != 0:\n",
    "        return False\n",
    "    \n",
    "    return True"
   ]
  },
  {
   "cell_type": "code",
   "execution_count": 119,
   "metadata": {
    "slideshow": {
     "slide_type": "subslide"
    }
   },
   "outputs": [
    {
     "name": "stderr",
     "output_type": "stream",
     "text": [
      "...\n",
      "----------------------------------------------------------------------\n",
      "Ran 3 tests in 0.003s\n",
      "\n",
      "OK\n"
     ]
    }
   ],
   "source": [
    "import unittest\n",
    "class TestBoardBitCode(unittest.TestCase):      \n",
    "    def test_bitcode_of_empty_board(self):\n",
    "        board = [None] * 8     \n",
    "        bitcode_d, bitcode_l, bitcode_r = GetBitCodeOfBoard(board)\n",
    "        \n",
    "        self.assertEqual(bitcode_d, 0)\n",
    "        self.assertEqual(bitcode_l, 0)\n",
    "        self.assertEqual(bitcode_r, 0)        \n",
    "        \n",
    "    def test_bitcode_of_partial_board(self):\n",
    "        board[0] = 5; board[1] = 1; board[2] = 4; board[3] = 0; board[4] = 7; board[5] = 3; board[6] = board[7] = None        \n",
    "        bitcode_d, bitcode_l, bitcode_r = GetBitCodeOfBoard(board)\n",
    "        \n",
    "        self.assertEqual(bitcode_d, 0b10111011)\n",
    "        self.assertEqual(bitcode_l, 0b000100101101100)\n",
    "        self.assertEqual(bitcode_r, 0b001011010110000)\n",
    "        \n",
    "    def test_bitcode_of_allset_board(self):\n",
    "        board[0] = 0; board[1] = 6; board[2] = 4; board[3] = 7; board[4] = 1; board[5] = 3; board[6] = 5; board[7] = 2        \n",
    "        bitcode_d, bitcode_l, bitcode_r = GetBitCodeOfBoard(board)\n",
    "        \n",
    "        self.assertEqual(bitcode_d, 0b11111111)\n",
    "        self.assertEqual(bitcode_l, 0b000111111100001)\n",
    "        self.assertEqual(bitcode_r, 0b001101011110100)\n",
    "        \n",
    "if __name__ == '__main__':\n",
    "    unittest.main(argv=['first-arg-is-ignored'], exit=False)"
   ]
  },
  {
   "cell_type": "code",
   "execution_count": 120,
   "metadata": {
    "slideshow": {
     "slide_type": "subslide"
    }
   },
   "outputs": [],
   "source": [
    "def BacktrackSearch8QueenByRow(board, row, col, N=8):\n",
    "    global counter \n",
    "    if IsSolutionFound(board):\n",
    "        counter = counter + 1\n",
    "        print('sltn{}: {} '.format(counter, board), end='\\t')\n",
    "        # advance one step to try searching next solution after one success search\n",
    "        row_for_next_search = row + int((col+1)/N); col_for_next_search = col + 1\n",
    "        \n",
    "        if (col + 1) > N:\n",
    "            col_for_next_search = 0\n",
    "            \n",
    "        board[N-1] = None # Expect the backtrack happen in next recursion(definitely)\n",
    "        \n",
    "        return BacktrackSearch8QueenByRow(board, row_for_next_search, col_for_next_search)\n",
    "    \n",
    "    back_track_from_row = None; need_back_track = False\n",
    "    if row >= N: # Only if board[N-1] is not None(that is after one success search)\n",
    "        back_track_from_row = N - 2; board[N - 1] = None; need_back_track = True\n",
    "    else:\n",
    "        for c in range(col, N): # check the elements of the current row onward \n",
    "            if IsSafeStep(board, row, c) == True:\n",
    "                board[row] = c\n",
    "                return BacktrackSearch8QueenByRow(board, row + 1, 0)  # from the beginning of next row\n",
    "            \n",
    "        if board[row] == None: \n",
    "            back_track_from_row = row - 1; need_back_track = True\n",
    "    \n",
    "    # backtrack   \n",
    "    if need_back_track == True:\n",
    "        for r in range(back_track_from_row, -1, -1): # back track from above row [0, **back_track_from_row**]\n",
    "            col_of_back_track_row = board[r]; board[r] = None\n",
    "            if col_of_back_track_row < (N - 1 ):\n",
    "                return BacktrackSearch8QueenByRow(board, r, col_of_back_track_row + 1)\n",
    "             # Untill find the first row could forward the col (col < 8) or end after search all the rows\n",
    "                \n",
    "    print('\\nEnd of search, total number of solution is: {}'.format(counter))\n",
    "    return  # end of whole search"
   ]
  },
  {
   "cell_type": "code",
   "execution_count": 121,
   "metadata": {
    "slideshow": {
     "slide_type": "subslide"
    }
   },
   "outputs": [
    {
     "name": "stdout",
     "output_type": "stream",
     "text": [
      "sltn1: [0, 4, 7, 5, 2, 6, 1, 3] \tsltn2: [0, 5, 7, 2, 6, 3, 1, 4] \tsltn3: [0, 6, 3, 5, 7, 1, 4, 2] \tsltn4: [0, 6, 4, 7, 1, 3, 5, 2] \tsltn5: [1, 3, 5, 7, 2, 0, 6, 4] \tsltn6: [1, 4, 6, 0, 2, 7, 5, 3] \tsltn7: [1, 4, 6, 3, 0, 7, 5, 2] \tsltn8: [1, 5, 0, 6, 3, 7, 2, 4] \tsltn9: [1, 5, 7, 2, 0, 3, 6, 4] \tsltn10: [1, 6, 2, 5, 7, 4, 0, 3] \tsltn11: [1, 6, 4, 7, 0, 3, 5, 2] \tsltn12: [1, 7, 5, 0, 2, 4, 6, 3] \tsltn13: [2, 0, 6, 4, 7, 1, 3, 5] \tsltn14: [2, 4, 1, 7, 0, 6, 3, 5] \tsltn15: [2, 4, 1, 7, 5, 3, 6, 0] \tsltn16: [2, 4, 6, 0, 3, 1, 7, 5] \tsltn17: [2, 4, 7, 3, 0, 6, 1, 5] \tsltn18: [2, 5, 1, 4, 7, 0, 6, 3] \tsltn19: [2, 5, 1, 6, 0, 3, 7, 4] \tsltn20: [2, 5, 1, 6, 4, 0, 7, 3] \tsltn21: [2, 5, 3, 0, 7, 4, 6, 1] \tsltn22: [2, 5, 3, 1, 7, 4, 6, 0] \tsltn23: [2, 5, 7, 0, 3, 6, 4, 1] \tsltn24: [2, 5, 7, 0, 4, 6, 1, 3] \tsltn25: [2, 5, 7, 1, 3, 0, 6, 4] \tsltn26: [2, 6, 1, 7, 4, 0, 3, 5] \tsltn27: [2, 6, 1, 7, 5, 3, 0, 4] \tsltn28: [2, 7, 3, 6, 0, 5, 1, 4] \tsltn29: [3, 0, 4, 7, 1, 6, 2, 5] \tsltn30: [3, 0, 4, 7, 5, 2, 6, 1] \tsltn31: [3, 1, 4, 7, 5, 0, 2, 6] \tsltn32: [3, 1, 6, 2, 5, 7, 0, 4] \tsltn33: [3, 1, 6, 2, 5, 7, 4, 0] \tsltn34: [3, 1, 6, 4, 0, 7, 5, 2] \tsltn35: [3, 1, 7, 4, 6, 0, 2, 5] \tsltn36: [3, 1, 7, 5, 0, 2, 4, 6] \tsltn37: [3, 5, 0, 4, 1, 7, 2, 6] \tsltn38: [3, 5, 7, 1, 6, 0, 2, 4] \tsltn39: [3, 5, 7, 2, 0, 6, 4, 1] \tsltn40: [3, 6, 0, 7, 4, 1, 5, 2] \tsltn41: [3, 6, 2, 7, 1, 4, 0, 5] \tsltn42: [3, 6, 4, 1, 5, 0, 2, 7] \tsltn43: [3, 6, 4, 2, 0, 5, 7, 1] \tsltn44: [3, 7, 0, 2, 5, 1, 6, 4] \tsltn45: [3, 7, 0, 4, 6, 1, 5, 2] \tsltn46: [3, 7, 4, 2, 0, 6, 1, 5] \tsltn47: [4, 0, 3, 5, 7, 1, 6, 2] \tsltn48: [4, 0, 7, 3, 1, 6, 2, 5] \tsltn49: [4, 0, 7, 5, 2, 6, 1, 3] \tsltn50: [4, 1, 3, 5, 7, 2, 0, 6] \tsltn51: [4, 1, 3, 6, 2, 7, 5, 0] \tsltn52: [4, 1, 5, 0, 6, 3, 7, 2] \tsltn53: [4, 1, 7, 0, 3, 6, 2, 5] \tsltn54: [4, 2, 0, 5, 7, 1, 3, 6] \tsltn55: [4, 2, 0, 6, 1, 7, 5, 3] \tsltn56: [4, 2, 7, 3, 6, 0, 5, 1] \tsltn57: [4, 6, 0, 2, 7, 5, 3, 1] \tsltn58: [4, 6, 0, 3, 1, 7, 5, 2] \tsltn59: [4, 6, 1, 3, 7, 0, 2, 5] \tsltn60: [4, 6, 1, 5, 2, 0, 3, 7] \tsltn61: [4, 6, 1, 5, 2, 0, 7, 3] \tsltn62: [4, 6, 3, 0, 2, 7, 5, 1] \tsltn63: [4, 7, 3, 0, 2, 5, 1, 6] \tsltn64: [4, 7, 3, 0, 6, 1, 5, 2] \tsltn65: [5, 0, 4, 1, 7, 2, 6, 3] \tsltn66: [5, 1, 6, 0, 2, 4, 7, 3] \tsltn67: [5, 1, 6, 0, 3, 7, 4, 2] \tsltn68: [5, 2, 0, 6, 4, 7, 1, 3] \tsltn69: [5, 2, 0, 7, 3, 1, 6, 4] \tsltn70: [5, 2, 0, 7, 4, 1, 3, 6] \tsltn71: [5, 2, 4, 6, 0, 3, 1, 7] \tsltn72: [5, 2, 4, 7, 0, 3, 1, 6] \tsltn73: [5, 2, 6, 1, 3, 7, 0, 4] \tsltn74: [5, 2, 6, 1, 7, 4, 0, 3] \tsltn75: [5, 2, 6, 3, 0, 7, 1, 4] \tsltn76: [5, 3, 0, 4, 7, 1, 6, 2] \tsltn77: [5, 3, 1, 7, 4, 6, 0, 2] \tsltn78: [5, 3, 6, 0, 2, 4, 1, 7] \tsltn79: [5, 3, 6, 0, 7, 1, 4, 2] \tsltn80: [5, 7, 1, 3, 0, 6, 4, 2] \tsltn81: [6, 0, 2, 7, 5, 3, 1, 4] \tsltn82: [6, 1, 3, 0, 7, 4, 2, 5] \tsltn83: [6, 1, 5, 2, 0, 3, 7, 4] \tsltn84: [6, 2, 0, 5, 7, 4, 1, 3] \tsltn85: [6, 2, 7, 1, 4, 0, 5, 3] \tsltn86: [6, 3, 1, 4, 7, 0, 2, 5] \tsltn87: [6, 3, 1, 7, 5, 0, 2, 4] \tsltn88: [6, 4, 2, 0, 5, 7, 1, 3] \tsltn89: [7, 1, 3, 0, 6, 4, 2, 5] \tsltn90: [7, 1, 4, 2, 0, 6, 3, 5] \tsltn91: [7, 2, 0, 5, 1, 4, 6, 3] \tsltn92: [7, 3, 0, 2, 5, 1, 6, 4] \t\n",
      "End of search, total number of solution is: 92\n"
     ]
    }
   ],
   "source": [
    "import sys\n",
    "sys.setrecursionlimit(5000)\n",
    "\n",
    "# start from scratch\n",
    "board = [None] * 8\n",
    "counter = 0\n",
    "BacktrackSearch8QueenByRow(board, 0, 0)"
   ]
  },
  {
   "cell_type": "markdown",
   "metadata": {
    "slideshow": {
     "slide_type": "slide"
    }
   },
   "source": [
    "### 八皇后问题\n",
    "***\n",
    "### All solutions\n",
    "\n",
    "<img style=\"float: center;\" src=\"./assets/img/queen8_all_solutions.png\" width=800 height=600  align=\"center\">\n"
   ]
  },
  {
   "cell_type": "markdown",
   "metadata": {
    "slideshow": {
     "slide_type": "slide"
    }
   },
   "source": [
    "# 2.1 递归\n",
    "***\n",
    "### \\*递归式\n",
    "当一个算法包含对自身的递归调用时，其运行时间通常可以用递归式（recurrence）来表示。递归式描述的是如何用更小的输入下该函数的值来表示函数的值。如MERGE-SORT的最坏运行时间T(n)可以用下面的递归式表达\n",
    "$$\n",
    "\\begin{equation}\n",
    "T(n) =\n",
    "\\begin{cases}\n",
    "\\Theta(1), & n = 1 \\\\\n",
    "2T(n/2) + \\Theta(n), & n > 1 \\\\\n",
    "\\end{cases}\n",
    "\\end{equation}\n",
    "$$\n",
    "\n",
    "### \\*主方法（Master Method）\n",
    "主方法给出求解如下形式递归式的“食谱”(cookbook)方法\n",
    "$$T(n) = aT(n/b) + f(n)$$\n",
    "\n",
    "<br>\n",
    "<center>Introduction to Algorithms</center>"
   ]
  },
  {
   "cell_type": "markdown",
   "metadata": {
    "slideshow": {
     "slide_type": "subslide"
    }
   },
   "source": [
    "# 2.1 递归\n",
    "***\n",
    "### \\*递归树\n",
    "<img style=\"float: center;\" src=\"./assets/img/mit6172_lec8_p8_recursion_tree.png\" width=500 height=350  align=\"center\">\n",
    "<center>MIT6.172</center>"
   ]
  },
  {
   "cell_type": "markdown",
   "metadata": {
    "slideshow": {
     "slide_type": "subslide"
    }
   },
   "source": [
    "# 2.1 递归\n",
    "***\n",
    "### \\*主定理（Master theorem)\n",
    "设$a>=1$和$b>1$为常数，设$f(n)$为一函数，$T(n)$由递归式$T(n) = aT(n/b) + f(n)$\n",
    "\n",
    "对非负整数定义，其中$n/b$指$\\left \\lfloor \\frac{n}{b} \\right \\rfloor$或$\\left \\lceil \\frac{n}{b} \\right \\rceil$。那么$T(n)$可能由如下的渐进(asymptotic)界\n",
    "\n",
    "1.若对于某常数$\\epsilon>0$，有$f(n)=O(n^{log_b^{a}-\\epsilon})$, 则$T(n)=\\Theta(n^{log_b^a})$;\n",
    "\n",
    "\n",
    "2.若$f(n)=\\Theta(n^{log_b^a})$，则$T(n)=\\Theta(n{log_b^alg^n})$;\n",
    "\n",
    "\n",
    "3.若对于某常数$\\epsilon>0$，有$f(n)=\\Omega(n^{log_b^{a}+\\epsilon})$，且对常数$c<1$与所有足够大的$n$，有$af(n/b)<=cf(n)$，则$T(n)=\\Theta(f(n))$\n",
    "<img style=\"float: center;\" src=\"./assets/img/asymptotic.png\" width=800 height=400  align=\"center\">\n",
    "\n",
    "[Master theorem from wikipedia](https://en.wikipedia.org/wiki/Master_theorem_(analysis_of_algorithms))\n"
   ]
  },
  {
   "cell_type": "markdown",
   "metadata": {
    "slideshow": {
     "slide_type": "slide"
    }
   },
   "source": [
    "## 2.2 遍历：递归思想的典型应用\n",
    "\n"
   ]
  },
  {
   "cell_type": "code",
   "execution_count": 122,
   "metadata": {
    "slideshow": {
     "slide_type": "subslide"
    }
   },
   "outputs": [
    {
     "data": {
      "image/svg+xml": [
       "<?xml version=\"1.0\" encoding=\"UTF-8\" standalone=\"no\"?>\n",
       "<!DOCTYPE svg PUBLIC \"-//W3C//DTD SVG 1.1//EN\"\n",
       " \"http://www.w3.org/Graphics/SVG/1.1/DTD/svg11.dtd\">\n",
       "<!-- Generated by graphviz version 2.40.1 (20161225.0304)\n",
       " -->\n",
       "<!-- Title: %3 Pages: 1 -->\n",
       "<svg width=\"350pt\" height=\"188pt\"\n",
       " viewBox=\"0.00 0.00 350.00 188.00\" xmlns=\"http://www.w3.org/2000/svg\" xmlns:xlink=\"http://www.w3.org/1999/xlink\">\n",
       "<g id=\"graph0\" class=\"graph\" transform=\"scale(1 1) rotate(0) translate(4 184)\">\n",
       "<title>%3</title>\n",
       "<polygon fill=\"#ffffff\" stroke=\"transparent\" points=\"-4,4 -4,-184 346,-184 346,4 -4,4\"/>\n",
       "<!-- 1 -->\n",
       "<g id=\"node1\" class=\"node\">\n",
       "<title>1</title>\n",
       "<ellipse fill=\"none\" stroke=\"#000000\" cx=\"171\" cy=\"-162\" rx=\"27\" ry=\"18\"/>\n",
       "<text text-anchor=\"middle\" x=\"171\" y=\"-158.3\" font-family=\"Times,serif\" font-size=\"14.00\" fill=\"#000000\">1</text>\n",
       "</g>\n",
       "<!-- 2 -->\n",
       "<g id=\"node2\" class=\"node\">\n",
       "<title>2</title>\n",
       "<ellipse fill=\"none\" stroke=\"#000000\" cx=\"99\" cy=\"-90\" rx=\"27\" ry=\"18\"/>\n",
       "<text text-anchor=\"middle\" x=\"99\" y=\"-86.3\" font-family=\"Times,serif\" font-size=\"14.00\" fill=\"#000000\">2</text>\n",
       "</g>\n",
       "<!-- 1&#45;&gt;2 -->\n",
       "<g id=\"edge1\" class=\"edge\">\n",
       "<title>1&#45;&gt;2</title>\n",
       "<path fill=\"none\" stroke=\"#000000\" d=\"M155.7307,-146.7307C145.803,-136.803 132.6847,-123.6847 121.5637,-112.5637\"/>\n",
       "<polygon fill=\"#000000\" stroke=\"#000000\" points=\"123.7933,-109.8436 114.2473,-105.2473 118.8436,-114.7933 123.7933,-109.8436\"/>\n",
       "</g>\n",
       "<!-- 3 -->\n",
       "<g id=\"node3\" class=\"node\">\n",
       "<title>3</title>\n",
       "<ellipse fill=\"none\" stroke=\"#000000\" cx=\"171\" cy=\"-90\" rx=\"27\" ry=\"18\"/>\n",
       "<text text-anchor=\"middle\" x=\"171\" y=\"-86.3\" font-family=\"Times,serif\" font-size=\"14.00\" fill=\"#000000\">3</text>\n",
       "</g>\n",
       "<!-- 1&#45;&gt;3 -->\n",
       "<g id=\"edge2\" class=\"edge\">\n",
       "<title>1&#45;&gt;3</title>\n",
       "<path fill=\"none\" stroke=\"#000000\" d=\"M171,-143.8314C171,-136.131 171,-126.9743 171,-118.4166\"/>\n",
       "<polygon fill=\"#000000\" stroke=\"#000000\" points=\"174.5001,-118.4132 171,-108.4133 167.5001,-118.4133 174.5001,-118.4132\"/>\n",
       "</g>\n",
       "<!-- 4 -->\n",
       "<g id=\"node4\" class=\"node\">\n",
       "<title>4</title>\n",
       "<ellipse fill=\"none\" stroke=\"#000000\" cx=\"243\" cy=\"-90\" rx=\"27\" ry=\"18\"/>\n",
       "<text text-anchor=\"middle\" x=\"243\" y=\"-86.3\" font-family=\"Times,serif\" font-size=\"14.00\" fill=\"#000000\">4</text>\n",
       "</g>\n",
       "<!-- 1&#45;&gt;4 -->\n",
       "<g id=\"edge3\" class=\"edge\">\n",
       "<title>1&#45;&gt;4</title>\n",
       "<path fill=\"none\" stroke=\"#000000\" d=\"M186.2693,-146.7307C196.197,-136.803 209.3153,-123.6847 220.4363,-112.5637\"/>\n",
       "<polygon fill=\"#000000\" stroke=\"#000000\" points=\"223.1564,-114.7933 227.7527,-105.2473 218.2067,-109.8436 223.1564,-114.7933\"/>\n",
       "</g>\n",
       "<!-- 5 -->\n",
       "<g id=\"node5\" class=\"node\">\n",
       "<title>5</title>\n",
       "<ellipse fill=\"none\" stroke=\"#000000\" cx=\"27\" cy=\"-18\" rx=\"27\" ry=\"18\"/>\n",
       "<text text-anchor=\"middle\" x=\"27\" y=\"-14.3\" font-family=\"Times,serif\" font-size=\"14.00\" fill=\"#000000\">5</text>\n",
       "</g>\n",
       "<!-- 2&#45;&gt;5 -->\n",
       "<g id=\"edge4\" class=\"edge\">\n",
       "<title>2&#45;&gt;5</title>\n",
       "<path fill=\"none\" stroke=\"#000000\" d=\"M83.7307,-74.7307C73.803,-64.803 60.6847,-51.6847 49.5637,-40.5637\"/>\n",
       "<polygon fill=\"#000000\" stroke=\"#000000\" points=\"51.7933,-37.8436 42.2473,-33.2473 46.8436,-42.7933 51.7933,-37.8436\"/>\n",
       "</g>\n",
       "<!-- 6 -->\n",
       "<g id=\"node6\" class=\"node\">\n",
       "<title>6</title>\n",
       "<ellipse fill=\"none\" stroke=\"#000000\" cx=\"99\" cy=\"-18\" rx=\"27\" ry=\"18\"/>\n",
       "<text text-anchor=\"middle\" x=\"99\" y=\"-14.3\" font-family=\"Times,serif\" font-size=\"14.00\" fill=\"#000000\">6</text>\n",
       "</g>\n",
       "<!-- 2&#45;&gt;6 -->\n",
       "<g id=\"edge5\" class=\"edge\">\n",
       "<title>2&#45;&gt;6</title>\n",
       "<path fill=\"none\" stroke=\"#000000\" d=\"M99,-71.8314C99,-64.131 99,-54.9743 99,-46.4166\"/>\n",
       "<polygon fill=\"#000000\" stroke=\"#000000\" points=\"102.5001,-46.4132 99,-36.4133 95.5001,-46.4133 102.5001,-46.4132\"/>\n",
       "</g>\n",
       "<!-- 7 -->\n",
       "<g id=\"node7\" class=\"node\">\n",
       "<title>7</title>\n",
       "<ellipse fill=\"none\" stroke=\"#000000\" cx=\"171\" cy=\"-18\" rx=\"27\" ry=\"18\"/>\n",
       "<text text-anchor=\"middle\" x=\"171\" y=\"-14.3\" font-family=\"Times,serif\" font-size=\"14.00\" fill=\"#000000\">7</text>\n",
       "</g>\n",
       "<!-- 2&#45;&gt;7 -->\n",
       "<g id=\"edge6\" class=\"edge\">\n",
       "<title>2&#45;&gt;7</title>\n",
       "<path fill=\"none\" stroke=\"#000000\" d=\"M114.2693,-74.7307C124.197,-64.803 137.3153,-51.6847 148.4363,-40.5637\"/>\n",
       "<polygon fill=\"#000000\" stroke=\"#000000\" points=\"151.1564,-42.7933 155.7527,-33.2473 146.2067,-37.8436 151.1564,-42.7933\"/>\n",
       "</g>\n",
       "<!-- 8 -->\n",
       "<g id=\"node8\" class=\"node\">\n",
       "<title>8</title>\n",
       "<ellipse fill=\"none\" stroke=\"#000000\" cx=\"243\" cy=\"-18\" rx=\"27\" ry=\"18\"/>\n",
       "<text text-anchor=\"middle\" x=\"243\" y=\"-14.3\" font-family=\"Times,serif\" font-size=\"14.00\" fill=\"#000000\">8</text>\n",
       "</g>\n",
       "<!-- 4&#45;&gt;8 -->\n",
       "<g id=\"edge7\" class=\"edge\">\n",
       "<title>4&#45;&gt;8</title>\n",
       "<path fill=\"none\" stroke=\"#000000\" d=\"M243,-71.8314C243,-64.131 243,-54.9743 243,-46.4166\"/>\n",
       "<polygon fill=\"#000000\" stroke=\"#000000\" points=\"246.5001,-46.4132 243,-36.4133 239.5001,-46.4133 246.5001,-46.4132\"/>\n",
       "</g>\n",
       "<!-- 9 -->\n",
       "<g id=\"node9\" class=\"node\">\n",
       "<title>9</title>\n",
       "<ellipse fill=\"none\" stroke=\"#000000\" cx=\"315\" cy=\"-18\" rx=\"27\" ry=\"18\"/>\n",
       "<text text-anchor=\"middle\" x=\"315\" y=\"-14.3\" font-family=\"Times,serif\" font-size=\"14.00\" fill=\"#000000\">9</text>\n",
       "</g>\n",
       "<!-- 4&#45;&gt;9 -->\n",
       "<g id=\"edge8\" class=\"edge\">\n",
       "<title>4&#45;&gt;9</title>\n",
       "<path fill=\"none\" stroke=\"#000000\" d=\"M258.2693,-74.7307C268.197,-64.803 281.3153,-51.6847 292.4363,-40.5637\"/>\n",
       "<polygon fill=\"#000000\" stroke=\"#000000\" points=\"295.1564,-42.7933 299.7527,-33.2473 290.2067,-37.8436 295.1564,-42.7933\"/>\n",
       "</g>\n",
       "</g>\n",
       "</svg>\n"
      ],
      "text/plain": [
       "<graphviz.graphs.Digraph at 0x7f7ba857ae10>"
      ]
     },
     "execution_count": 122,
     "metadata": {},
     "output_type": "execute_result"
    }
   ],
   "source": [
    "from graphviz import Digraph\n",
    "dot = Digraph()\n",
    "dot.node('1')\n",
    "dot.node('2')\n",
    "dot.node('3')\n",
    "dot.node('4')\n",
    "dot.node('5')\n",
    "dot.node('6')\n",
    "dot.node('7')\n",
    "dot.node('8')\n",
    "dot.node('9')\n",
    "dot.edges(['12'])\n",
    "dot.edges(['13'])\n",
    "dot.edges(['14'])\n",
    "dot.edges(['25'])\n",
    "dot.edges(['26'])\n",
    "dot.edges(['27'])\n",
    "dot.edges(['48'])\n",
    "dot.edges(['49'])\n",
    "dot"
   ]
  },
  {
   "cell_type": "markdown",
   "metadata": {
    "slideshow": {
     "slide_type": "slide"
    }
   },
   "source": [
    "### 树\n",
    "***\n",
    "#### 树的特征\n",
    "- 每一个节点有唯一的父节点\n",
    "- 连通性\n",
    "- 不带有环<br>\n",
    "\n",
    "#### 树的属性\n",
    "- 度：子节点的数量<br>\n",
    "\n",
    "#### 树的种类\n",
    "- 二叉树\n",
    "- 满二叉树\n",
    "- 完全二叉树\n",
    "- 排序二叉树\n",
    "- 红黑树\n",
    "- B树"
   ]
  },
  {
   "cell_type": "markdown",
   "metadata": {
    "slideshow": {
     "slide_type": "slide"
    }
   },
   "source": [
    "### 二叉树及其遍历\n",
    "***\n",
    "* 任何树和二叉树都是等价的\n",
    "* 有序树：遵循左边的子节点在前面，右边的子节点在后面\n",
    "\n",
    "<code>\n",
    "    struct BinaryTree {\n",
    "        AnyDataMember;  // 任意数据项\n",
    "        BinaryTree left_subtree;  // 左子节点\n",
    "        BinaryTree right_subtree; // 右子节点\n",
    "    }\n",
    "</code>\n",
    "\n",
    "* 二叉树的遍历方法\n",
    "    * 深度优先\n",
    "    * 广度优先"
   ]
  },
  {
   "cell_type": "code",
   "execution_count": 123,
   "metadata": {
    "slideshow": {
     "slide_type": "subslide"
    }
   },
   "outputs": [],
   "source": [
    "class BinaryTree:\n",
    "    def __init__(self, value, left=None, right=None):\n",
    "        self.value = value\n",
    "        self.left_subtree = left\n",
    "        self.right_subtree = right\n",
    "    \n",
    "    def PrintNode(self):\n",
    "        print(\"{}\".format(self.value), end='\\t')\n",
    "        \n",
    " \n",
    "node4 = BinaryTree(4)\n",
    "node5 = BinaryTree(5)\n",
    "node7 = BinaryTree(7)\n",
    "node6 = BinaryTree(6, None, node7)\n",
    "node3 = BinaryTree(3, node6)\n",
    "node2 = BinaryTree(2, node4, node5)\n",
    "root = BinaryTree(1, node2, node3)"
   ]
  },
  {
   "cell_type": "markdown",
   "metadata": {
    "slideshow": {
     "slide_type": "subslide"
    }
   },
   "source": [
    "### 二叉树及其遍历\n",
    "***\n",
    "### 深度优先遍历规则\n",
    "<img style=\"float: center;\" src=\"./assets/img/sample_binary_tree.jpg\" width=300 height=400 />\n",
    "\n",
    " * 从上到下顺序访问\n",
    " * 先左后右（或者先右后左）\n",
    " * 走到尽头就掉头\n",
    " \n",
    "$1->2->4->2->5->2->1->3->6->7$\n",
    " "
   ]
  },
  {
   "cell_type": "markdown",
   "metadata": {
    "slideshow": {
     "slide_type": "subslide"
    }
   },
   "source": [
    "### 二叉树及其遍历\n",
    "***\n",
    "### 广度优先遍历规则\n",
    " <img style=\"float: center;\" src=\"./assets/img/sample_binary_tree.jpg\" width=300 height=400>\n",
    "\n",
    " * 将整颗二叉树从上到下分层，逐层扫描；\n",
    " * 每一层从左到右（也可以从右到左）扫描\n",
    " \n",
    "$1->2->3->4->5->6->7$"
   ]
  },
  {
   "cell_type": "markdown",
   "metadata": {
    "slideshow": {
     "slide_type": "subslide"
    }
   },
   "source": [
    "### 二叉树及其遍历\n",
    "***\n",
    "### 使用递归思想实现二叉树的遍历\n",
    "根据访问根节点的顺序可以分为\n",
    "* 中序遍历\n",
    "* 先序遍历\n",
    "* 后序遍历\n",
    "\n",
    "\n",
    "<code>\n",
    "DepthFirstTraverseTree(BinaryTree tree) {\n",
    "    if (tree = NIL) return;\n",
    "    DepthFirstTraverseTree(tree.left_subtree);\n",
    "    PrintNode();\n",
    "    DepthFirstTraverseTree(tree.right_subtree);\n",
    "}\n",
    "</code>\n",
    "\n",
    " <img style=\"float: center;\" src=\"./assets/img/sample_binary_tree.jpg\" width=300 height=400 align=\"left\">\n"
   ]
  },
  {
   "cell_type": "code",
   "execution_count": 124,
   "metadata": {
    "slideshow": {
     "slide_type": "subslide"
    }
   },
   "outputs": [
    {
     "name": "stdout",
     "output_type": "stream",
     "text": [
      "4\t2\t5\t1\t6\t7\t3\t"
     ]
    }
   ],
   "source": [
    "def DepthFirstTraverseTree(tree):\n",
    "    if tree == None:\n",
    "        return\n",
    "    DepthFirstTraverseTree(tree.left_subtree)\n",
    "    tree.PrintNode()\n",
    "    DepthFirstTraverseTree(tree.right_subtree)\n",
    "\n",
    "DepthFirstTraverseTree(root)"
   ]
  },
  {
   "cell_type": "markdown",
   "metadata": {
    "slideshow": {
     "slide_type": "slide"
    }
   },
   "source": [
    "## 2.3 堆栈和队列：遍历的数据结构"
   ]
  },
  {
   "cell_type": "markdown",
   "metadata": {
    "slideshow": {
     "slide_type": "subslide"
    }
   },
   "source": [
    "### 堆栈\n",
    "***\n",
    "<img style=\"float: right;\" src=\"./assets/img/hanoi_recursion.jpg\" width=600 height=400 align=\"center\">\n",
    "\n",
    "| |\n",
    "| --- |\n",
    "|  |\n",
    "|  |\n",
    "| Hanoi（1, A, T, B) |\n",
    "| Hanoi（2, A, B, T) |\n",
    "| ... |\n",
    "| Hanoi（62, A, B, T) |\n",
    "| Hanoi（63, A, T, B) |\n",
    "| Hanoi（64, A, B, T) |"
   ]
  },
  {
   "cell_type": "code",
   "execution_count": 125,
   "metadata": {
    "slideshow": {
     "slide_type": "subslide"
    }
   },
   "outputs": [
    {
     "name": "stdout",
     "output_type": "stream",
     "text": [
      "\u001b[36m#\u001b[39;49;00m\u001b[36minclude\u001b[39;49;00m\u001b[37m \u001b[39;49;00m\u001b[37m<stdio.h>\u001b[39;49;00m\u001b[36m\u001b[39;49;00m\r\n",
      "\u001b[37m\u001b[39;49;00m\r\n",
      "\u001b[37m// a: src\u001b[39;49;00m\r\n",
      "\u001b[37m// b: dst\u001b[39;49;00m\r\n",
      "\u001b[36mvoid\u001b[39;49;00m\u001b[37m \u001b[39;49;00m\u001b[32mTowers\u001b[39;49;00m(\u001b[36mint\u001b[39;49;00m\u001b[37m \u001b[39;49;00mn,\u001b[36mchar\u001b[39;49;00m\u001b[37m \u001b[39;49;00ma,\u001b[36mchar\u001b[39;49;00m\u001b[37m \u001b[39;49;00mt,\u001b[36mchar\u001b[39;49;00m\u001b[37m \u001b[39;49;00mb){\u001b[37m\u001b[39;49;00m\r\n",
      "\u001b[37m\t\u001b[39;49;00m\u001b[34mif\u001b[39;49;00m(n==\u001b[34m1\u001b[39;49;00m){\u001b[37m\u001b[39;49;00m\r\n",
      "\u001b[37m\t\t\u001b[39;49;00mprintf(\u001b[33m\"\u001b[39;49;00m\u001b[33mMove disk %d from %c to %c\u001b[39;49;00m\u001b[33m\\n\u001b[39;49;00m\u001b[33m\"\u001b[39;49;00m,\u001b[37m \u001b[39;49;00mn,\u001b[37m \u001b[39;49;00ma,\u001b[37m \u001b[39;49;00mb);\u001b[37m\u001b[39;49;00m\r\n",
      "\u001b[37m\t\u001b[39;49;00m}\u001b[37m\u001b[39;49;00m\r\n",
      "\u001b[37m\t\u001b[39;49;00m\u001b[34melse\u001b[39;49;00m{\u001b[37m\u001b[39;49;00m\r\n",
      "\u001b[37m\t\t\u001b[39;49;00mTowers(n\u001b[34m-1\u001b[39;49;00m,a,b,t);\u001b[37m\u001b[39;49;00m\r\n",
      "\u001b[37m\t\t\u001b[39;49;00mprintf(\u001b[33m\"\u001b[39;49;00m\u001b[33mMove disk %d from %c to %c\u001b[39;49;00m\u001b[33m\\n\u001b[39;49;00m\u001b[33m\"\u001b[39;49;00m,\u001b[37m \u001b[39;49;00mn,\u001b[37m \u001b[39;49;00ma,\u001b[37m \u001b[39;49;00mb);\u001b[37m\u001b[39;49;00m\r\n",
      "\u001b[37m\t\t\u001b[39;49;00mTowers(n\u001b[34m-1\u001b[39;49;00m,t,b,a);\u001b[37m\u001b[39;49;00m\r\n",
      "\u001b[37m\t\u001b[39;49;00m}\u001b[37m\u001b[39;49;00m\r\n",
      "}\u001b[37m\u001b[39;49;00m\r\n",
      "\u001b[36mint\u001b[39;49;00m\u001b[37m \u001b[39;49;00m\u001b[32mmain\u001b[39;49;00m(\u001b[36mint\u001b[39;49;00m\u001b[37m \u001b[39;49;00margc,\u001b[37m \u001b[39;49;00m\u001b[36mchar\u001b[39;49;00m\u001b[37m \u001b[39;49;00m*argv[])\u001b[37m \u001b[39;49;00m{\u001b[37m\u001b[39;49;00m\r\n",
      "\u001b[37m\t\u001b[39;49;00m\u001b[36mint\u001b[39;49;00m\u001b[37m \u001b[39;49;00mn\u001b[37m \u001b[39;49;00m=\u001b[37m \u001b[39;49;00m\u001b[34m64\u001b[39;49;00m;\u001b[37m\u001b[39;49;00m\r\n",
      "\u001b[37m\t\u001b[39;49;00mTowers(n,\u001b[33m'\u001b[39;49;00m\u001b[33mA\u001b[39;49;00m\u001b[33m'\u001b[39;49;00m,\u001b[33m'\u001b[39;49;00m\u001b[33mT\u001b[39;49;00m\u001b[33m'\u001b[39;49;00m,\u001b[33m'\u001b[39;49;00m\u001b[33mB\u001b[39;49;00m\u001b[33m'\u001b[39;49;00m);\u001b[37m\u001b[39;49;00m\r\n",
      "\u001b[37m\t\u001b[39;49;00m\u001b[34mreturn\u001b[39;49;00m\u001b[37m \u001b[39;49;00m\u001b[34m0\u001b[39;49;00m;\u001b[37m\u001b[39;49;00m\r\n",
      "}\u001b[37m\u001b[39;49;00m\r\n"
     ]
    }
   ],
   "source": [
    "!pygmentize hanoi.cc"
   ]
  },
  {
   "cell_type": "code",
   "execution_count": 126,
   "metadata": {
    "slideshow": {
     "slide_type": "subslide"
    }
   },
   "outputs": [],
   "source": [
    "!clang++  -g hanoi.cc -o hanoi\n",
    "#！gdb"
   ]
  },
  {
   "cell_type": "code",
   "execution_count": 127,
   "metadata": {
    "slideshow": {
     "slide_type": "subslide"
    }
   },
   "outputs": [
    {
     "name": "stdout",
     "output_type": "stream",
     "text": [
      "GNU gdb (GDB) 7.11\r\n",
      "Copyright (C) 2016 Free Software Foundation, Inc.\r\n",
      "License GPLv3+: GNU GPL version 3 or later <http://gnu.org/licenses/gpl.html>\r\n",
      "This is free software: you are free to change and redistribute it.\r\n",
      "There is NO WARRANTY, to the extent permitted by law.  Type \"show copying\"\r\n",
      "and \"show warranty\" for details.\r\n",
      "This GDB was configured as \"x86_64-linux-gnu\".\r\n",
      "Type \"show configuration\" for configuration details.\r\n",
      "For bug reporting instructions, please see:\r\n",
      "<http://www.gnu.org/software/gdb/bugs/>.\r\n",
      "Find the GDB manual and other documentation resources online at:\r\n",
      "<http://www.gnu.org/software/gdb/documentation/>.\r\n",
      "For help, type \"help\".\r\n",
      "Type \"apropos word\" to search for commands related to \"word\"...\r\n",
      "Reading symbols from ./hanoi...done.\r\n",
      "(gdb) \r",
      "\u001b[C\u001b[16@reverse-i-search)`':\u001b[C\r",
      "\u001b[Cgdb) \u001b[K\r\n",
      "(gdb) break hanoi.cc:7\r\n",
      "Breakpoint 1 at 0x401155: file hanoi.cc, line 7.\r\n",
      "(gdb) r\r\n",
      "Starting program: /home/jiaosong/workspace/src/github/joeshow79/algorithm/the_essence_of_computing/hanoi \r\n",
      "\r\n",
      "Breakpoint 1, Towers (n=1, a=65 'A', t=66 'B', b=84 'T') at hanoi.cc:7\r\n",
      "7\t\t\tprintf(\"Move disk %d from %c to %c\\n\", n, a, b);\r\n",
      "(gdb) bt\r\n",
      "#0  Towers (n=1, a=65 'A', t=66 'B', b=84 'T') at hanoi.cc:7\r\n",
      "#1  0x0000000000401191 in Towers (n=2, a=65 'A', t=84 'T', b=66 'B') at hanoi.cc:10\r\n",
      "#2  0x0000000000401191 in Towers (n=3, a=65 'A', t=66 'B', b=84 'T') at hanoi.cc:10\r\n",
      "#3  0x0000000000401191 in Towers (n=4, a=65 'A', t=84 'T', b=66 'B') at hanoi.cc:10\r\n",
      "#4  0x0000000000401191 in Towers (n=5, a=65 'A', t=66 'B', b=84 'T') at hanoi.cc:10\r\n",
      "#5  0x0000000000401191 in Towers (n=6, a=65 'A', t=84 'T', b=66 'B') at hanoi.cc:10\r\n"
     ]
    }
   ],
   "source": [
    "!head -n 30 ./hanoi_stack.txt"
   ]
  },
  {
   "cell_type": "code",
   "execution_count": 128,
   "metadata": {
    "scrolled": true,
    "slideshow": {
     "slide_type": "subslide"
    }
   },
   "outputs": [
    {
     "name": "stdout",
     "output_type": "stream",
     "text": [
      "#5  0x0000000000401191 in Towers (n=6, a=65 'A', t=84 'T', b=66 'B') at hanoi.cc:10\r\n",
      "#6  0x0000000000401191 in Towers (n=7, a=65 'A', t=66 'B', b=84 'T') at hanoi.cc:10\r\n",
      "#7  0x0000000000401191 in Towers (n=8, a=65 'A', t=84 'T', b=66 'B') at hanoi.cc:10\r\n",
      "#8  0x0000000000401191 in Towers (n=9, a=65 'A', t=66 'B', b=84 'T') at hanoi.cc:10\r\n",
      "#9  0x0000000000401191 in Towers (n=10, a=65 'A', t=84 'T', b=66 'B') at hanoi.cc:10\r\n",
      "#10 0x0000000000401191 in Towers (n=11, a=65 'A', t=66 'B', b=84 'T') at hanoi.cc:10\r\n",
      "#11 0x0000000000401191 in Towers (n=12, a=65 'A', t=84 'T', b=66 'B') at hanoi.cc:10\r\n",
      "#12 0x0000000000401191 in Towers (n=13, a=65 'A', t=66 'B', b=84 'T') at hanoi.cc:10\r\n",
      "#13 0x0000000000401191 in Towers (n=14, a=65 'A', t=84 'T', b=66 'B') at hanoi.cc:10\r\n",
      "#14 0x0000000000401191 in Towers (n=15, a=65 'A', t=66 'B', b=84 'T') at hanoi.cc:10\r\n",
      "#15 0x0000000000401191 in Towers (n=16, a=65 'A', t=84 'T', b=66 'B') at hanoi.cc:10\r\n",
      "#16 0x0000000000401191 in Towers (n=17, a=65 'A', t=66 'B', b=84 'T') at hanoi.cc:10\r\n",
      "#17 0x0000000000401191 in Towers (n=18, a=65 'A', t=84 'T', b=66 'B') at hanoi.cc:10\r\n",
      "#18 0x0000000000401191 in Towers (n=19, a=65 'A', t=66 'B', b=84 'T') at hanoi.cc:10\r\n",
      "#19 0x0000000000401191 in Towers (n=20, a=65 'A', t=84 'T', b=66 'B') at hanoi.cc:10\r\n",
      "#20 0x0000000000401191 in Towers (n=21, a=65 'A', t=66 'B', b=84 'T') at hanoi.cc:10\r\n",
      "#21 0x0000000000401191 in Towers (n=22, a=65 'A', t=84 'T', b=66 'B') at hanoi.cc:10\r\n",
      "#22 0x0000000000401191 in Towers (n=23, a=65 'A', t=66 'B', b=84 'T') at hanoi.cc:10\r\n",
      "#23 0x0000000000401191 in Towers (n=24, a=65 'A', t=84 'T', b=66 'B') at hanoi.cc:10\r\n",
      "#24 0x0000000000401191 in Towers (n=25, a=65 'A', t=66 'B', b=84 'T') at hanoi.cc:10\r\n"
     ]
    }
   ],
   "source": [
    "!head -n 89 ./hanoi_stack.txt | tail -n 60 | head -n 20"
   ]
  },
  {
   "cell_type": "code",
   "execution_count": 129,
   "metadata": {
    "scrolled": true,
    "slideshow": {
     "slide_type": "subslide"
    }
   },
   "outputs": [
    {
     "name": "stdout",
     "output_type": "stream",
     "text": [
      "#25 0x0000000000401191 in Towers (n=26, a=65 'A', t=84 'T', b=66 'B') at hanoi.cc:10\r\n",
      "#26 0x0000000000401191 in Towers (n=27, a=65 'A', t=66 'B', b=84 'T') at hanoi.cc:10\r\n",
      "#27 0x0000000000401191 in Towers (n=28, a=65 'A', t=84 'T', b=66 'B') at hanoi.cc:10\r\n",
      "#28 0x0000000000401191 in Towers (n=29, a=65 'A', t=66 'B', b=84 'T') at hanoi.cc:10\r\n",
      "#29 0x0000000000401191 in Towers (n=30, a=65 'A', t=84 'T', b=66 'B') at hanoi.cc:10\r\n",
      "#30 0x0000000000401191 in Towers (n=31, a=65 'A', t=66 'B', b=84 'T') at hanoi.cc:10\r\n",
      "#31 0x0000000000401191 in Towers (n=32, a=65 'A', t=84 'T', b=66 'B') at hanoi.cc:10\r\n",
      "#32 0x0000000000401191 in Towers (n=33, a=65 'A', t=66 'B', b=84 'T') at hanoi.cc:10\r\n",
      "#33 0x0000000000401191 in Towers (n=34, a=65 'A', t=84 'T', b=66 'B') at hanoi.cc:10\r\n",
      "#34 0x0000000000401191 in Towers (n=35, a=65 'A', t=66 'B', b=84 'T') at hanoi.cc:10\r\n",
      "#35 0x0000000000401191 in Towers (n=36, a=65 'A', t=84 'T', b=66 'B') at hanoi.cc:10\r\n",
      "#36 0x0000000000401191 in Towers (n=37, a=65 'A', t=66 'B', b=84 'T') at hanoi.cc:10\r\n",
      "#37 0x0000000000401191 in Towers (n=38, a=65 'A', t=84 'T', b=66 'B') at hanoi.cc:10\r\n",
      "#38 0x0000000000401191 in Towers (n=39, a=65 'A', t=66 'B', b=84 'T') at hanoi.cc:10\r\n",
      "#39 0x0000000000401191 in Towers (n=40, a=65 'A', t=84 'T', b=66 'B') at hanoi.cc:10\r\n",
      "#40 0x0000000000401191 in Towers (n=41, a=65 'A', t=66 'B', b=84 'T') at hanoi.cc:10\r\n",
      "#41 0x0000000000401191 in Towers (n=42, a=65 'A', t=84 'T', b=66 'B') at hanoi.cc:10\r\n",
      "#42 0x0000000000401191 in Towers (n=43, a=65 'A', t=66 'B', b=84 'T') at hanoi.cc:10\r\n",
      "#43 0x0000000000401191 in Towers (n=44, a=65 'A', t=84 'T', b=66 'B') at hanoi.cc:10\r\n",
      "#44 0x0000000000401191 in Towers (n=45, a=65 'A', t=66 'B', b=84 'T') at hanoi.cc:10\r\n"
     ]
    }
   ],
   "source": [
    "!head -n 89 ./hanoi_stack.txt | tail -n 40 | head -n 20"
   ]
  },
  {
   "cell_type": "code",
   "execution_count": 130,
   "metadata": {
    "scrolled": true,
    "slideshow": {
     "slide_type": "subslide"
    }
   },
   "outputs": [
    {
     "name": "stdout",
     "output_type": "stream",
     "text": [
      "#45 0x0000000000401191 in Towers (n=46, a=65 'A', t=84 'T', b=66 'B') at hanoi.cc:10\r\n",
      "#46 0x0000000000401191 in Towers (n=47, a=65 'A', t=66 'B', b=84 'T') at hanoi.cc:10\r\n",
      "#47 0x0000000000401191 in Towers (n=48, a=65 'A', t=84 'T', b=66 'B') at hanoi.cc:10\r\n",
      "#48 0x0000000000401191 in Towers (n=49, a=65 'A', t=66 'B', b=84 'T') at hanoi.cc:10\r\n",
      "#49 0x0000000000401191 in Towers (n=50, a=65 'A', t=84 'T', b=66 'B') at hanoi.cc:10\r\n",
      "#50 0x0000000000401191 in Towers (n=51, a=65 'A', t=66 'B', b=84 'T') at hanoi.cc:10\r\n",
      "#51 0x0000000000401191 in Towers (n=52, a=65 'A', t=84 'T', b=66 'B') at hanoi.cc:10\r\n",
      "#52 0x0000000000401191 in Towers (n=53, a=65 'A', t=66 'B', b=84 'T') at hanoi.cc:10\r\n",
      "#53 0x0000000000401191 in Towers (n=54, a=65 'A', t=84 'T', b=66 'B') at hanoi.cc:10\r\n",
      "#54 0x0000000000401191 in Towers (n=55, a=65 'A', t=66 'B', b=84 'T') at hanoi.cc:10\r\n",
      "#55 0x0000000000401191 in Towers (n=56, a=65 'A', t=84 'T', b=66 'B') at hanoi.cc:10\r\n",
      "#56 0x0000000000401191 in Towers (n=57, a=65 'A', t=66 'B', b=84 'T') at hanoi.cc:10\r\n",
      "#57 0x0000000000401191 in Towers (n=58, a=65 'A', t=84 'T', b=66 'B') at hanoi.cc:10\r\n",
      "#58 0x0000000000401191 in Towers (n=59, a=65 'A', t=66 'B', b=84 'T') at hanoi.cc:10\r\n",
      "#59 0x0000000000401191 in Towers (n=60, a=65 'A', t=84 'T', b=66 'B') at hanoi.cc:10\r\n",
      "#60 0x0000000000401191 in Towers (n=61, a=65 'A', t=66 'B', b=84 'T') at hanoi.cc:10\r\n",
      "#61 0x0000000000401191 in Towers (n=62, a=65 'A', t=84 'T', b=66 'B') at hanoi.cc:10\r\n",
      "#62 0x0000000000401191 in Towers (n=63, a=65 'A', t=66 'B', b=84 'T') at hanoi.cc:10\r\n",
      "#63 0x0000000000401191 in Towers (n=64, a=65 'A', t=84 'T', b=66 'B') at hanoi.cc:10\r\n",
      "#64 0x0000000000401204 in main (argc=1, argv=0x7fffffffd188) at hanoi.cc:17\r\n"
     ]
    }
   ],
   "source": [
    "!head -n 89 ./hanoi_stack.txt | tail -n 20 | head -n 20"
   ]
  },
  {
   "cell_type": "markdown",
   "metadata": {
    "slideshow": {
     "slide_type": "slide"
    }
   },
   "source": [
    "### 简单计算器\n",
    "***\n",
    "实现一个简单计算器，它支持不带括号的四则运算，计算要满足先乘除后加减的规则。\n",
    "\n",
    "$5+4-2=$\n",
    "\n",
    "$5-4*3/4=$"
   ]
  },
  {
   "cell_type": "markdown",
   "metadata": {
    "slideshow": {
     "slide_type": "subslide"
    }
   },
   "source": [
    "### 简单计算器\n",
    "***\n",
    "$5+4-2=$\n",
    "\n",
    "| 输入字符 |栈| | | | | | | |\n",
    "| --- | --- | --- | --- | --- | --- | --- | --- | --- |\n",
    "| 5 | 5 |  |  |  |  |  |  |  |\n",
    "| + | 5 | + |  |  |  |  |  |  |\n",
    "| 4 | 5 | + | 4 |  |  |  |  |  |\n",
    "| - | 9 | - |  |  |  |  |  |  |\n",
    "| 2 | 9 | - | 2 |  |  |  |  |  |\n",
    "| = |  |  |  |  |  |  |  |  |"
   ]
  },
  {
   "cell_type": "markdown",
   "metadata": {
    "slideshow": {
     "slide_type": "subslide"
    }
   },
   "source": [
    "### 简单计算器\n",
    "***\n",
    "$5-4*3/4=$\n",
    "\n",
    "| 输入字符 |栈| | | | | | | |\n",
    "| --- | --- | --- | --- | --- | --- | --- | --- | --- |\n",
    "| 5 | 5 |  |  |  |  |  |  |  |\n",
    "| - | 5 | - |  |  |  |  |  |  |\n",
    "| 4 | 5 | - | 4 |  |  |  |  |  |\n",
    "| x | 5 | - | 4 | x |  |  |  |  |\n",
    "| 3 | 5 | - | 4 | x | 3 |  |  |  |\n",
    "| / | 5 | - | 12 | / |  |  |  |  |\n",
    "| 4 | 5 | - | 12 | / | 4 |  |  |  |\n",
    "| = | 5 | - | 3 |  |  |  |  |  |\n",
    "| =  |  |  |  |  |  |  |  |  |"
   ]
  },
  {
   "cell_type": "markdown",
   "metadata": {
    "slideshow": {
     "slide_type": "subslide"
    }
   },
   "source": [
    "### 思考题中我们可以看到一个Naive的计算器实现"
   ]
  },
  {
   "cell_type": "markdown",
   "metadata": {
    "slideshow": {
     "slide_type": "slide"
    }
   },
   "source": [
    "### 队列\n",
    "***\n",
    "#### 借助队列实现宽度优先的二叉树遍历算法\n",
    "\n",
    "<img style=\"float: center;\" src=\"./assets/img/sample_binary_tree.jpg\" width=250 height=300 align=\"left\" />\n",
    "\n",
    "<code>\n",
    "    BreadthFirstTraverseTree(BinaryTree tree){\n",
    "    if (tree = NIL) return;   \n",
    "    while (队列 queue不为空) {\n",
    "        if (node.left_subtree != NIL) {\n",
    "            将node.left_subtree放进队列queue\n",
    "        }\n",
    "        if (node.right_subtree != NIL) {\n",
    "            将node.right_subtree放进队列queue\n",
    "        }\n",
    "    }\n",
    "    }\n",
    "</code>\n",
    "  \n",
    "| | | | | | | | |\n",
    "| --- | --- | --- | --- | --- | --- | --- | --- |\n",
    "|将根节点推入Queue | 1 |  |  |  |  |  |  |  |\n",
    "|Queue循环    #1 | **1** | ___2___ | ___3___ |  |  |  |  |  |\n",
    "|Queue循环    #2  | ~~1~~ | **2** | 3 | ___4___ | ___5___ |  |  |  |\n",
    "|Queue循环    #3  | ~~1~~ | ~~2~~ | **3** | 4 | 5 | __6__ |  |  |\n",
    "|Queue循环    #4  | ~~1~~ | ~~2~~ | ~~3~~ | **4** | 5 | 6 |  |  |\n",
    "|Queue循环    #5  | ~~1~~ | ~~2~~ | ~~3~~ | ~~4~~ | **5** | 6 |  |  |\n",
    "|Queue循环    #6  | ~~1~~ | ~~2~~ | ~~3~~ | ~~4~~| ~~5~~ | **6** | ___7___ |  |\n",
    "|Queue循环    #7  | ~~1~~ | ~~2~~ | ~~3~~ | ~~4~~ | ~~5~~ | ~~6~~ | **7** |  |  "
   ]
  },
  {
   "cell_type": "code",
   "execution_count": 131,
   "metadata": {
    "slideshow": {
     "slide_type": "subslide"
    }
   },
   "outputs": [
    {
     "name": "stdout",
     "output_type": "stream",
     "text": [
      "1\t2\t3\t4\t5\t6\t7\t"
     ]
    }
   ],
   "source": [
    "import queue\n",
    "\n",
    "def BreadthFirstTraverseTree(tree):\n",
    "    if tree == None:\n",
    "        return\n",
    "    \n",
    "    q = queue.Queue()\n",
    "    q.put(tree)\n",
    "    \n",
    "    while(not q.empty()):\n",
    "        node = q.get()\n",
    "\n",
    "        if node.left_subtree != None:\n",
    "            q.put(node.left_subtree)\n",
    "        if node.right_subtree != None:\n",
    "            q.put(node.right_subtree)\n",
    "            \n",
    "        node.PrintNode()\n",
    "\n",
    "BreadthFirstTraverseTree(root)"
   ]
  },
  {
   "cell_type": "markdown",
   "metadata": {
    "slideshow": {
     "slide_type": "slide"
    }
   },
   "source": [
    "## 2.4 嵌套：自然语言的结构特征"
   ]
  },
  {
   "cell_type": "markdown",
   "metadata": {
    "slideshow": {
     "slide_type": "subslide"
    }
   },
   "source": [
    "### 计算机和常人思维方式的差异\n",
    "***\n",
    " <img style=\"float: center;\" src=\"./assets/img/computer_vs_human.jpg\" width=600 height=400 align=\"center\">\n"
   ]
  },
  {
   "cell_type": "markdown",
   "metadata": {
    "slideshow": {
     "slide_type": "subslide"
    }
   },
   "source": [
    "### 语法规则\n",
    "***\n",
    "\n",
    "\n",
    "\n",
    "| | |\n",
    "| --- | --- |\n",
    "| 句子 = 主语部分 + 谓语部分 | 主语部分 = 定语 + 名词短语 |\n",
    "| 定语= 名词短语 \\| 形容词短语 |  名词短语 = 形容词 + 名词|\n",
    "| 名词短语 = 名词 | 谓语部分 = 位于 + 宾语 |\n",
    "| 谓语部分 = 谓语 + 状语 | 宾语 = 句子\\|名词短语 |\n",
    "| 状语 = 副词 + 动词| |"
   ]
  },
  {
   "cell_type": "markdown",
   "metadata": {
    "slideshow": {
     "slide_type": "subslide"
    }
   },
   "source": [
    "### 语法树\n",
    "***\n",
    "今年北京颐和园的游客人数比往年减少了一成\n",
    "\n",
    " <img style=\"float: center;\" src=\"./assets/img/pragmar_tree.png\" width=300 height=400 align=\"center\">\n"
   ]
  },
  {
   "cell_type": "markdown",
   "metadata": {
    "slideshow": {
     "slide_type": "subslide"
    }
   },
   "source": [
    "### 文法分析方法\n",
    "***\n",
    "* 上下文无关文法分析\n",
    "\n",
    "如：名词短语 = 数量词 + 形容词 + 名词\n",
    "\n",
    "$O(N^3)$\n",
    "\n",
    "* 上下文相关文法分析\n",
    "\n",
    "如：（介词）名词短语（副词）= （介词）数量词 + 形容词 + 名词（副词）\n",
    "\n",
    "$O(N^6)$\n"
   ]
  },
  {
   "cell_type": "markdown",
   "metadata": {
    "slideshow": {
     "slide_type": "slide"
    }
   },
   "source": [
    "## 总结\n",
    "***\n",
    "1. 递推和递归\n",
    "    - 人的思维通常是递推，即从小到大、从简单情况到复杂情况、自顶向下拓展的，先把简单的问题搞清楚，看看能否找到规律，再用于复杂的情况\n",
    "    - 计算思维通常是递归，自顶向下，先把大问题分解为小问题，小问题和大问题有着同样的结构和解决方法\n",
    "2. 遍历\n",
    "    - 二叉树及深度优先遍历\n",
    "3. 堆栈和队列\n",
    "    - 堆栈LIFO\n",
    "    - 队列FIFO\n",
    "4. 嵌套\n",
    "    - 自然语言的文法分析，就是把线性的句子变成一棵语法树\n",
    "    - 分析一个语句需要很多文法规则\n",
    "    - 文法规则过去由人工编写，现在通过机器学习得到\n",
    "    - 文法规则可以是上下文无关的，也可以是上下文相关的"
   ]
  },
  {
   "cell_type": "markdown",
   "metadata": {
    "slideshow": {
     "slide_type": "slide"
    }
   },
   "source": [
    "## 思考题\n",
    "***\n",
    "### 2.1 上台阶问题的扩展\n",
    "有n级台阶，每次能够上k级，有多少种不同的攀登方法？（⭐⭐⭐）\n",
    "\n",
    "提示：走到第n级，上一次可能处在第n-1、n-2...n-k级"
   ]
  },
  {
   "cell_type": "code",
   "execution_count": 132,
   "metadata": {
    "slideshow": {
     "slide_type": "subslide"
    }
   },
   "outputs": [
    {
     "name": "stdout",
     "output_type": "stream",
     "text": [
      "Number of ways to achive 20 by at most 2 stride/iteration is: 6765.\n"
     ]
    }
   ],
   "source": [
    "def NumberOfWaysByStride(n, k):\n",
    "    if n < 0:\n",
    "        return 0\n",
    "    \n",
    "    if n < 2: \n",
    "        return n\n",
    "    \n",
    "    r = 0\n",
    "    for i in range(k):\n",
    "        r = r + NumberOfWaysByStride(n - i -1, k) \n",
    "        \n",
    "    return r\n",
    "\n",
    "N = 20\n",
    "K = 2\n",
    "print('Number of ways to achive {} by at most {} stride/iteration is: {}.'.format(N, K, NumberOfWaysByStride(N, K)))\n",
    "                                                                               "
   ]
  },
  {
   "cell_type": "markdown",
   "metadata": {
    "slideshow": {
     "slide_type": "slide"
    }
   },
   "source": [
    "## 思考题\n",
    "***\n",
    "#### 2.2 Q1. 修改中序遍历算法2.2，将它变成先序遍历或者后序遍历算法。(⭐)\n",
    "<code>\n",
    "    PreOrderDepthFirstTraverseTree(BinaryTree tree) {\n",
    "        if (tree = NIL) return;\n",
    "            PrintNode();  # 先序\n",
    "            DepthFirstTraverseTree(tree.left_subtree);\n",
    "            DepthFirstTraverseTree(tree.right_subtree);\n",
    "    }\n",
    "    InOrderDepthFirstTraverseTree(BinaryTree tree) {\n",
    "        if (tree = NIL) return;\n",
    "            DepthFirstTraverseTree(tree.left_subtree);\n",
    "            PrintNode();  # 中序\n",
    "            DepthFirstTraverseTree(tree.right_subtree);\n",
    "    }\n",
    "    PostOrderDepthFirstTraverseTree(BinaryTree tree) {\n",
    "        if (tree = NIL) return;\n",
    "            DepthFirstTraverseTree(tree.left_subtree);\n",
    "            DepthFirstTraverseTree(tree.right_subtree);\n",
    "            PrintNode();  # 后序\n",
    "    }\n",
    "</code>"
   ]
  },
  {
   "cell_type": "markdown",
   "metadata": {
    "slideshow": {
     "slide_type": "subslide"
    }
   },
   "source": [
    "## 思考题\n",
    "***\n",
    "#### Q2. （二叉排序树）有这样一串数字5，2，8，0，10，7，18，20，30，12，15，1，将它们建成一棵二叉排序树。二叉排序树满足下面的条件。（⭐⭐）\n",
    "\n",
    "（1）如果左子树不为空，则左子树上所有节点的值均小于树的根节点的值。同样，如果右子树不为空，则右子树上所有节点的值均大于树的根节点的值。\n",
    "\n",
    "（2）左右子树本身也是二叉排序树。\n",
    "\n",
    "对于上述数字，我们在建立二叉排序树时，先把第一个数字5放在根节点，然后扫描第二个数字2，由于它比根节点的数字5小，因此我们将它放在左子树中。接下来我们扫描第三个数字8，由于它比根节点的数字5大，因此我们将它放在右子树中。重复上述过程，我们可以简称完整的二叉排序树。请完成下面三个小问题。\n",
    "    \n",
    "（1）写一个算法完成上述操作。\n",
    "\n",
    "（2）这个算法的复杂度是多少？\n",
    "\n",
    "（3）用何种遍历方法得到的结果恰好把上面的一串数字排好序？\n"
   ]
  },
  {
   "cell_type": "code",
   "execution_count": 133,
   "metadata": {
    "slideshow": {
     "slide_type": "subslide"
    }
   },
   "outputs": [
    {
     "name": "stdout",
     "output_type": "stream",
     "text": [
      "0\t2\t5\t7\t8\t10\t12\t18\t20\t30\t\n",
      "5\t2\t8\t0\t7\t10\t18\t12\t20\t30\t"
     ]
    }
   ],
   "source": [
    "def TrivialBuildOrderBinaryTree(node_seq):\n",
    "    root = None\n",
    "    pointer = None\n",
    "    p_value = 0    \n",
    "    for i, v in enumerate(node_seq):\n",
    "        if i == 0:\n",
    "            root = BinaryTree(node_seq[0])\n",
    "            pointer = root\n",
    "        else:\n",
    "            pointer = root\n",
    "            \n",
    "            while pointer is not None:\n",
    "                if v < pointer.value:\n",
    "                    if pointer.left_subtree == None:\n",
    "                        node = BinaryTree(v)\n",
    "                        pointer.left_subtree = node\n",
    "                        break\n",
    "                    else:\n",
    "                        pointer = pointer.left_subtree\n",
    "                if v >= pointer.value:\n",
    "                    if pointer.right_subtree == None:\n",
    "                        node = BinaryTree(v)\n",
    "                        pointer.right_subtree = node\n",
    "                        break\n",
    "                    else:\n",
    "                        pointer = pointer.right_subtree\n",
    "                        \n",
    "    return root\n",
    "    \n",
    "seq = [5, 2 , 8, 0, 10, 7, 18, 20, 30, 12]\n",
    "tree = BuildOrderBinaryTree(seq)\n",
    "DepthFirstTraverseTree(tree)\n",
    "print('')\n",
    "BreadthFirstTraverseTree(tree)"
   ]
  },
  {
   "cell_type": "code",
   "execution_count": 134,
   "metadata": {
    "slideshow": {
     "slide_type": "subslide"
    }
   },
   "outputs": [
    {
     "name": "stdout",
     "output_type": "stream",
     "text": [
      "0\t2\t5\t7\t8\t10\t12\t18\t20\t30\t\n",
      "5\t2\t8\t0\t7\t10\t18\t12\t20\t30\t"
     ]
    }
   ],
   "source": [
    "def RecursiveBuildOrderBinaryTree(root, value, parent, left=True):    \n",
    "    if root == None:\n",
    "        node = BinaryTree(v)\n",
    "        if parent != None:\n",
    "            if left:\n",
    "                parent.left_subtree = node\n",
    "            else:\n",
    "                parent.right_subtree = node\n",
    "                \n",
    "        return node\n",
    "    \n",
    "    if value < root.value:\n",
    "        return RecursiveBuildOrderBinaryTree(root.left_subtree, value, root, left = True)\n",
    "    else:\n",
    "        return RecursiveBuildOrderBinaryTree(root.right_subtree, value, root, left = False)\n",
    "\n",
    "seq = [5, 2 , 8, 0, 10, 7, 18, 20, 30, 12]\n",
    "root = None\n",
    "for i, v in enumerate(seq):\n",
    "    n = RecursiveBuildOrderBinaryTree(root, v, None)\n",
    "    \n",
    "    if i == 0:\n",
    "        root = n\n",
    "\n",
    "DepthFirstTraverseTree(root)\n",
    "print('')\n",
    "BreadthFirstTraverseTree(root)"
   ]
  },
  {
   "cell_type": "markdown",
   "metadata": {
    "slideshow": {
     "slide_type": "subslide"
    }
   },
   "source": [
    "####  Q2. （二叉排序树）\n",
    "（1）写一个算法完成上述操作。\n",
    "\n",
    "As above\n",
    "\n",
    "（2）这个算法的复杂度是多少？   \n",
    "\n",
    "* 平均情况\n",
    "$$\\sum_{i=1}^{n}ln^i = ln^{\\Pi_{i=1}^{n}} = ln^{n!} = nln^n-n+O(ln^n)= O(nln^n)$$\n",
    "\n",
    "* 最坏情况\n",
    "发生在输入序列已经排好序的情况（无论正序还是倒序）\n",
    "$$\\sum_{i=1}^{n}i-1 = \\frac{n(n-1)}{2} =O(n^2)$$ \n",
    "    \n",
    "（3）用何种遍历方法得到的结果恰好把上面的一串数字排好序？\n",
    "\n",
    "Depth first"
   ]
  },
  {
   "cell_type": "markdown",
   "metadata": {
    "slideshow": {
     "slide_type": "slide"
    }
   },
   "source": [
    "## 思考题\n",
    "***\n",
    "### 2.3\n",
    "#### Q1. 写出简单计算器的伪代码。（⭐）\n"
   ]
  },
  {
   "cell_type": "markdown",
   "metadata": {
    "slideshow": {
     "slide_type": "subslide"
    }
   },
   "source": [
    "## 思考题\n",
    "***\n",
    "#### 2.3 Q1. 写出简单计算器的伪代码。（⭐）\n",
    "<code>\n",
    "last_op = NIL // 保存上一个操作符\n",
    "input = read_input()\n",
    "while（input != NIL) {                       \n",
    "   if (input is operator) {\n",
    "       if (last_op != NIL) {\n",
    "           // 优先级比较：'=' < '+-' < '*/'\n",
    "           if(PRIORITY(input) <= PRIORITY(last_op)) {\n",
    "             // 取出前三个操作数或者操作符号，进行计算，结果和新的符号/\n",
    "             operand_b = stack.pop(); operator = stack.pop(); operand_a = stack.pop();\n",
    "             result = evalue(operand_a, operator, operand_b);\n",
    "             stack.push(result);\n",
    "            }                                    \n",
    "        }\n",
    "        last_op = input;\n",
    "   } \n",
    "   if(input is '=') {\n",
    "     while(stack.size >= 3) {\n",
    "         operand_b = stack.pop(); operator = stack.pop();operand_a = stack.pop();\n",
    "         result = evalue(operand_a, operator, operand_b);\n",
    "         stack.push(result);\n",
    "    }\n",
    "   }\n",
    "   stack.push(input);\n",
    "   input = read_input();\n",
    " }\n",
    "</code>"
   ]
  },
  {
   "cell_type": "code",
   "execution_count": 135,
   "metadata": {
    "slideshow": {
     "slide_type": "subslide"
    }
   },
   "outputs": [],
   "source": [
    "def is_math_operator(input_str):\n",
    "    if input_str in ['+', '-', '*', '/']:\n",
    "        return True\n",
    "    \n",
    "    return False\n",
    "\n",
    "def is_math_equal(input_str):\n",
    "    if input_str is '=':\n",
    "        return True\n",
    "    \n",
    "    return False\n",
    "\n",
    "def get_operator_priority(input_str):\n",
    "    if input_str in ['+', '-']:\n",
    "        return 1  \n",
    "    if input_str in ['*', '/']:\n",
    "        return 2\n",
    "    \n",
    "    return 0\n",
    "\n",
    "def evaluate(operand_a, operator, operand_b):\n",
    "    # print('{} {} {}'.format(operand_a, operator, operand_b))\n",
    "    if operator is '+':\n",
    "        return (int(operand_a) + int(operand_b))\n",
    "    if operator is '-':\n",
    "        return (int(operand_a) - int(operand_b))\n",
    "    if operator is '*':\n",
    "        return (int(operand_a) * int(operand_b))\n",
    "    if operator is '/':\n",
    "        return (int(operand_a) / int(operand_b))\n",
    "    \n",
    "    return 0\n"
   ]
  },
  {
   "cell_type": "code",
   "execution_count": 136,
   "metadata": {
    "slideshow": {
     "slide_type": "subslide"
    }
   },
   "outputs": [],
   "source": [
    "class Stack(object):\n",
    "    def __init__(self):\n",
    "        self.items = []\n",
    "        \n",
    "    def size(self):\n",
    "        return len(self.items)\n",
    "    \n",
    "    def append(self, op):\n",
    "        self.items.append(op)\n",
    "        self.dump()\n",
    "    \n",
    "    def pop(self):\n",
    "        if self.size() > 0:\n",
    "            v = self.items.pop()\n",
    "            self.dump()\n",
    "            return v\n",
    "        \n",
    "        return None\n",
    "        \n",
    "    def dump(self):\n",
    "        if False:\n",
    "            print('Dump stack: ')\n",
    "            for v in self.items:\n",
    "                print('{}'.format(v), end='\\t')\n",
    "            print('')"
   ]
  },
  {
   "cell_type": "code",
   "execution_count": 137,
   "metadata": {
    "slideshow": {
     "slide_type": "subslide"
    }
   },
   "outputs": [],
   "source": [
    "def compute(input_sequence):\n",
    "    last_op = None\n",
    "    stack = Stack()  # stack is stack\n",
    "    for input_s in input_sequence:\n",
    "        if (is_math_operator(input_s)):\n",
    "            if last_op is not None:\n",
    "                if get_operator_priority(input_s) <= get_operator_priority(last_op):\n",
    "                    operand_b = stack.pop()\n",
    "                    operator = stack.pop()\n",
    "                    operand_a = stack.pop()\n",
    "                    result = evaluate(operand_a, operator, operand_b)\n",
    "                    stack.append(result)\n",
    "                    \n",
    "            last_op = input_s\n",
    "            \n",
    "        if is_math_equal(input_s):\n",
    "            result = 0\n",
    "            while  stack.size() > 2:\n",
    "                operand_b = stack.pop()\n",
    "                operator = stack.pop()\n",
    "                operand_a = stack.pop()\n",
    "                \n",
    "                result = evaluate(operand_a, operator, operand_b)\n",
    "                stack.append(result)\n",
    "                \n",
    "            print('Final result of {} is {}'.format(input_sequence, result))\n",
    "            break\n",
    "            \n",
    "        stack.append(input_s)"
   ]
  },
  {
   "cell_type": "code",
   "execution_count": 138,
   "metadata": {
    "slideshow": {
     "slide_type": "subslide"
    }
   },
   "outputs": [
    {
     "name": "stdout",
     "output_type": "stream",
     "text": [
      "Final result of ['5', '+', '4', '-', '2', '='] is 7\n",
      "Final result of ['5', '-', '4', '*', '3', '/', '4', '='] is 2\n",
      "Final result of ['44', '+', '55', '*', '3', '/', '5', '+', '66', '='] is 143\n"
     ]
    }
   ],
   "source": [
    "import re\n",
    "\n",
    "#input_seq = ['5', '+', '4', '-', '2', '=']\n",
    "input_str = \"5+4-2=\"\n",
    "input_seq = [i.group() for i in re.finditer('\\d+|[+\\-*/=]', input_str)]\n",
    "compute(input_seq)\n",
    "\n",
    "#input_seq2 = ['5', '-', '4', '*', '3', '/', '4', '=']\n",
    "input_str2 = \"5-4*3/4=\"\n",
    "input_seq2 = [i.group() for i in re.finditer('\\d+|[+\\-*/=]', input_str2)]\n",
    "compute(input_seq2)\n",
    "\n",
    "input_str3 = \"44+55*3/5+66=\"\n",
    "input_seq3 = [i.group() for i in re.finditer('\\d+|[+\\-*/=]', input_str3)]\n",
    "compute(input_seq3)"
   ]
  },
  {
   "cell_type": "markdown",
   "metadata": {
    "slideshow": {
     "slide_type": "slide"
    }
   },
   "source": [
    "## 思考题\n",
    "***\n",
    "### 2.3\n",
    "#### Q2. 回旋打印二叉树的节点。（⭐⭐⭐）\n",
    "修改二叉树的广度遍历算法，使得偶数行的节点从左向右遍历，奇数行的节点从右向左遍历。\n",
    "\n",
    "A: 使用双stack数据结构"
   ]
  },
  {
   "cell_type": "code",
   "execution_count": 139,
   "metadata": {
    "slideshow": {
     "slide_type": "subslide"
    }
   },
   "outputs": [
    {
     "name": "stdout",
     "output_type": "stream",
     "text": [
      "5\t2\t8\t10\t7\t0\t18\t20\t12\t30\t"
     ]
    }
   ],
   "source": [
    "# Use double stacks\n",
    "def BreadthFirstCircleTraverseTree(tree):\n",
    "    if tree == None:\n",
    "        return\n",
    "    \n",
    "    odd_stack = Stack()\n",
    "    even_stack = Stack()\n",
    "    \n",
    "    odd_stack.append(tree)\n",
    "\n",
    "    stacks = []\n",
    "    stacks.append(even_stack)\n",
    "    stacks.append(odd_stack)\n",
    "    \n",
    "    while (even_stack.size() > 0 or odd_stack.size() > 0):\n",
    "        for s in stacks:\n",
    "            \n",
    "            while(s.size() > 0) :\n",
    "                node = s.pop()\n",
    "            \n",
    "                if s == even_stack:\n",
    "                    if node.left_subtree != None:\n",
    "                        odd_stack.append(node.left_subtree)\n",
    "                    if node.right_subtree != None:\n",
    "                        odd_stack.append(node.right_subtree)\n",
    "                else:\n",
    "                    if node.right_subtree != None:\n",
    "                        even_stack.append(node.right_subtree)\n",
    "                    if node.left_subtree != None:\n",
    "                        even_stack.append(node.left_subtree)\n",
    "                    \n",
    "                node.PrintNode()\n",
    "            \n",
    "BreadthFirstCircleTraverseTree(root)"
   ]
  },
  {
   "cell_type": "markdown",
   "metadata": {
    "slideshow": {
     "slide_type": "slide"
    }
   },
   "source": [
    "## 思考题\n",
    "***\n",
    "### 2.4\n",
    "#### Q1. 二叉树的最大深度（也被称为树的高度）是从根节点到最远的叶子节点的节点数。请写一个判定任意二叉树最大深度的算法。（⭐）\n"
   ]
  },
  {
   "cell_type": "code",
   "execution_count": 140,
   "metadata": {
    "slideshow": {
     "slide_type": "subslide"
    }
   },
   "outputs": [
    {
     "name": "stdout",
     "output_type": "stream",
     "text": [
      "Height of tree is 5\n"
     ]
    }
   ],
   "source": [
    "## 思考题\n",
    "### 2.4\n",
    "#### Q1. 二叉树的最大深度（也被称为树的高度）是从根节点到最远的叶子节点的节点数。请写一个判定任意二叉树最大深度的算法。（⭐）\n",
    "\n",
    "def HeightOfTree(tree):\n",
    "    if (tree is None):\n",
    "        return 0\n",
    "    \n",
    "    return 1 + max(HeightOfTree(tree.left_subtree),\n",
    "                   HeightOfTree(tree.right_subtree))\n",
    "\n",
    "print(\"Height of tree is {}\".format(HeightOfTree(root) - 1))"
   ]
  },
  {
   "cell_type": "markdown",
   "metadata": {
    "slideshow": {
     "slide_type": "slide"
    }
   },
   "source": [
    "## 思考题\n",
    "***\n",
    "### 2.4\n",
    "#### Q2. 如何在一个二叉树排序树中找到第二大的元素。（⭐）"
   ]
  },
  {
   "cell_type": "code",
   "execution_count": 141,
   "metadata": {
    "slideshow": {
     "slide_type": "subslide"
    }
   },
   "outputs": [],
   "source": [
    "import queue \n",
    "\n",
    "def FindMaxNode(tree): # 最大元素是right most的元素\n",
    "    node = tree\n",
    "    \n",
    "    while node.right_subtree  is not None:\n",
    "        node = node.right_subtree \n",
    "        \n",
    "    return node\n",
    "\n",
    "def FindParent(tree, node): # 使用BreadthFirstTraverseTree方式寻找父亲节点\n",
    "    if tree is None or node is None:\n",
    "        return None\n",
    "    \n",
    "    q = queue.Queue()\n",
    "    q.put(tree)\n",
    "    \n",
    "    while(not q.empty()):\n",
    "        n = q.get()\n",
    "        if n.left_subtree == node or n.right_subtree == node:\n",
    "            return n\n",
    "        \n",
    "        if n.left_subtree != None:\n",
    "            q.put(n.left_subtree)\n",
    "        if n.right_subtree != None:\n",
    "            q.put(n.right_subtree)\n",
    "        \n",
    "    return None"
   ]
  },
  {
   "cell_type": "code",
   "execution_count": 142,
   "metadata": {
    "slideshow": {
     "slide_type": "subslide"
    }
   },
   "outputs": [
    {
     "name": "stdout",
     "output_type": "stream",
     "text": [
      "5\t2\t8\t0\t7\t10\t18\t12\t\n",
      "Second largest value is: 12\n",
      "5\t2\t8\t0\t7\t10\t18\t12\t20\t30\t\n",
      "Second largest value is: 20\n"
     ]
    }
   ],
   "source": [
    "#  先找到最大值的节点  \n",
    "# 如果该节点有左子树，则左子树的最大节点为第二大元素节点 \n",
    "# 如果该节点没有左子树，则父节点就是第二大元素节点\n",
    "def FindSecondMaxiumNode(tree):\n",
    "    max_node = FindMaxNode(tree)\n",
    "    \n",
    "    if max_node.left_subtree is None:\n",
    "        return FindParent(tree, max_node)\n",
    "    else:\n",
    "        return FindMaxNode(max_node.left_subtree)\n",
    "\n",
    "seq = [5, 2 , 8, 0, 10, 7, 18, 12]  # maxium node has left subtree\n",
    "tree = BuildOrderBinaryTree(seq)\n",
    "BreadthFirstTraverseTree(tree)\n",
    "print('\\nSecond largest value is: {}'.format(FindSecondMaxiumNode(tree).value))\n",
    "\n",
    "seq = [5, 2 , 8, 0, 10, 7, 18, 20, 30, 12] # maxium node has no left subtree\n",
    "tree = BuildOrderBinaryTree(seq)\n",
    "BreadthFirstTraverseTree(tree)\n",
    "print('\\nSecond largest value is: {}'.format(FindSecondMaxiumNode(tree).value))"
   ]
  },
  {
   "cell_type": "markdown",
   "metadata": {
    "slideshow": {
     "slide_type": "slide"
    }
   },
   "source": [
    "# 参考\n",
    "***\n",
    "1. [Thomas H. Cormen, Charles E. Leiserson, Ronald L. Rivest, and Clifford Stein. Introduction to Algorithms](https://item.jd.com/10026866638030.html)<br>\n",
    "2. [Charles E. Leiserson, Julian Shun etc. Bit Hacks, Performance Engineering of Software System](https://ocw.mit.edu/courses/electrical-engineering-and-computer-science/6-172-performance-engineering-of-software-systems-fall-2018/lecture-slides/MIT6_172F18_lec3.pdf)<br>\n",
    "3. [Charles E. Leiserson, Julian Shun etc. ANALYSIS OF MULTITHREADED ALGORITHMS, Performance Engineering of Software System](https://ocw.mit.edu/courses/electrical-engineering-and-computer-science/6-172-performance-engineering-of-software-systems-fall-2018/lecture-slides/MIT6_172F18_lec8.pdf)<br>\n",
    "4. [Charles E. Leiserson, Julian Shun etc. Cache-Oblivious Algorithms , Performance Engineering of Software System](https://ocw.mit.edu/courses/electrical-engineering-and-computer-science/6-172-performance-engineering-of-software-systems-fall-2018/lecture-slides/MIT6_172F18_lec15.pdf)<br>"
   ]
  }
 ],
 "metadata": {
  "celltoolbar": "幻灯片",
  "kernelspec": {
   "display_name": "Python 3",
   "language": "python",
   "name": "python3"
  },
  "language_info": {
   "codemirror_mode": {
    "name": "ipython",
    "version": 3
   },
   "file_extension": ".py",
   "mimetype": "text/x-python",
   "name": "python",
   "nbconvert_exporter": "python",
   "pygments_lexer": "ipython3",
   "version": "3.6.10"
  }
 },
 "nbformat": 4,
 "nbformat_minor": 4
}
