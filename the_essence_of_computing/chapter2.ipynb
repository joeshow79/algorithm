{
 "cells": [
  {
   "cell_type": "markdown",
   "metadata": {
    "slideshow": {
     "slide_type": "slide"
    }
   },
   "source": [
    "# Chapter 2. 逆向思维--从递推到递归\n",
    "\n",
    "## 概要\n",
    "### 2.1 递归：计算思维的核心\n",
    "### 2.2 遍历：递归思想的典型应用\n",
    "### 2.3 堆栈和队列：遍历的数据结构\n",
    "### 2.4 嵌套：自然语言的结构特征"
   ]
  },
  {
   "cell_type": "code",
   "execution_count": 19,
   "metadata": {
    "slideshow": {
     "slide_type": "notes"
    }
   },
   "outputs": [
    {
     "name": "stdout",
     "output_type": "stream",
     "text": [
      "Requirement already satisfied: RISE in /usr/local/lib/python3.6/site-packages (5.7.1)\n",
      "Requirement already satisfied: notebook>=6.0 in /usr/local/lib/python3.6/site-packages (from RISE) (6.4.6)\n",
      "Requirement already satisfied: nest-asyncio>=1.5 in /usr/local/lib/python3.6/site-packages (from notebook>=6.0->RISE) (1.5.4)\n",
      "Requirement already satisfied: ipython-genutils in /usr/local/lib/python3.6/site-packages (from notebook>=6.0->RISE) (0.2.0)\n",
      "Requirement already satisfied: nbconvert in /usr/local/lib/python3.6/site-packages (from notebook>=6.0->RISE) (6.0.7)\n",
      "Requirement already satisfied: jupyter-core>=4.6.1 in /usr/local/lib/python3.6/site-packages (from notebook>=6.0->RISE) (4.9.1)\n",
      "Requirement already satisfied: terminado>=0.8.3 in /usr/local/lib/python3.6/site-packages (from notebook>=6.0->RISE) (0.12.1)\n",
      "Requirement already satisfied: argon2-cffi in /usr/local/lib/python3.6/site-packages (from notebook>=6.0->RISE) (21.3.0)\n",
      "Requirement already satisfied: Send2Trash>=1.8.0 in /usr/local/lib/python3.6/site-packages (from notebook>=6.0->RISE) (1.8.0)\n",
      "Requirement already satisfied: pyzmq>=17 in /usr/local/lib/python3.6/site-packages (from notebook>=6.0->RISE) (22.3.0)\n",
      "Requirement already satisfied: jinja2 in /usr/local/lib/python3.6/site-packages (from notebook>=6.0->RISE) (3.0.3)\n",
      "Requirement already satisfied: prometheus-client in /usr/local/lib/python3.6/site-packages (from notebook>=6.0->RISE) (0.12.0)\n",
      "Requirement already satisfied: ipykernel in /usr/local/lib/python3.6/site-packages (from notebook>=6.0->RISE) (5.5.6)\n",
      "Requirement already satisfied: tornado>=6.1 in /usr/local/lib/python3.6/site-packages (from notebook>=6.0->RISE) (6.1)\n",
      "Requirement already satisfied: jupyter-client>=5.3.4 in /usr/local/lib/python3.6/site-packages (from notebook>=6.0->RISE) (7.1.0)\n",
      "Requirement already satisfied: nbformat in /usr/local/lib/python3.6/site-packages (from notebook>=6.0->RISE) (5.1.3)\n",
      "Requirement already satisfied: traitlets>=4.2.1 in /usr/local/lib/python3.6/site-packages (from notebook>=6.0->RISE) (4.3.3)\n",
      "Requirement already satisfied: defusedxml in /usr/local/lib/python3.6/site-packages (from nbconvert->notebook>=6.0->RISE) (0.7.1)\n",
      "Requirement already satisfied: bleach in /usr/local/lib/python3.6/site-packages (from nbconvert->notebook>=6.0->RISE) (4.1.0)\n",
      "Requirement already satisfied: pandocfilters>=1.4.1 in /usr/local/lib/python3.6/site-packages (from nbconvert->notebook>=6.0->RISE) (1.5.0)\n",
      "Requirement already satisfied: entrypoints>=0.2.2 in /usr/local/lib/python3.6/site-packages (from nbconvert->notebook>=6.0->RISE) (0.3)\n",
      "Requirement already satisfied: testpath in /usr/local/lib/python3.6/site-packages (from nbconvert->notebook>=6.0->RISE) (0.5.0)\n",
      "Requirement already satisfied: pygments>=2.4.1 in /usr/local/lib/python3.6/site-packages (from nbconvert->notebook>=6.0->RISE) (2.10.0)\n",
      "Requirement already satisfied: mistune<2,>=0.8.1 in /usr/local/lib/python3.6/site-packages (from nbconvert->notebook>=6.0->RISE) (0.8.4)\n",
      "Requirement already satisfied: jupyterlab-pygments in /usr/local/lib/python3.6/site-packages (from nbconvert->notebook>=6.0->RISE) (0.1.2)\n",
      "Requirement already satisfied: nbclient<0.6.0,>=0.5.0 in /usr/local/lib/python3.6/site-packages (from nbconvert->notebook>=6.0->RISE) (0.5.9)\n",
      "Requirement already satisfied: ptyprocess; os_name != \"nt\" in /usr/local/lib/python3.6/site-packages (from terminado>=0.8.3->notebook>=6.0->RISE) (0.7.0)\n",
      "Requirement already satisfied: typing-extensions; python_version < \"3.8\" in /usr/local/lib/python3.6/site-packages (from argon2-cffi->notebook>=6.0->RISE) (4.0.1)\n",
      "Requirement already satisfied: dataclasses; python_version < \"3.7\" in /usr/local/lib/python3.6/site-packages (from argon2-cffi->notebook>=6.0->RISE) (0.8)\n",
      "Requirement already satisfied: argon2-cffi-bindings in /usr/local/lib/python3.6/site-packages (from argon2-cffi->notebook>=6.0->RISE) (21.2.0)\n",
      "Requirement already satisfied: MarkupSafe>=2.0 in /usr/local/lib/python3.6/site-packages (from jinja2->notebook>=6.0->RISE) (2.0.1)\n",
      "Requirement already satisfied: ipython>=5.0.0 in /usr/local/lib/python3.6/site-packages (from ipykernel->notebook>=6.0->RISE) (7.16.2)\n",
      "Requirement already satisfied: python-dateutil>=2.1 in /usr/local/lib/python3.6/site-packages (from jupyter-client>=5.3.4->notebook>=6.0->RISE) (2.8.2)\n",
      "Requirement already satisfied: jsonschema!=2.5.0,>=2.4 in /usr/local/lib/python3.6/site-packages (from nbformat->notebook>=6.0->RISE) (3.2.0)\n",
      "Requirement already satisfied: decorator in /usr/local/lib/python3.6/site-packages (from traitlets>=4.2.1->notebook>=6.0->RISE) (5.1.0)\n",
      "Requirement already satisfied: six in /usr/local/lib/python3.6/site-packages (from traitlets>=4.2.1->notebook>=6.0->RISE) (1.16.0)\n",
      "Requirement already satisfied: packaging in /usr/local/lib/python3.6/site-packages (from bleach->nbconvert->notebook>=6.0->RISE) (21.3)\n",
      "Requirement already satisfied: webencodings in /usr/local/lib/python3.6/site-packages (from bleach->nbconvert->notebook>=6.0->RISE) (0.5.1)\n",
      "Requirement already satisfied: async-generator; python_version < \"3.7\" in /usr/local/lib/python3.6/site-packages (from nbclient<0.6.0,>=0.5.0->nbconvert->notebook>=6.0->RISE) (1.10)\n",
      "Requirement already satisfied: cffi>=1.0.1 in /usr/local/lib/python3.6/site-packages (from argon2-cffi-bindings->argon2-cffi->notebook>=6.0->RISE) (1.15.0)\n",
      "Requirement already satisfied: jedi<=0.17.2,>=0.10 in /usr/local/lib/python3.6/site-packages (from ipython>=5.0.0->ipykernel->notebook>=6.0->RISE) (0.17.2)\n",
      "Requirement already satisfied: pickleshare in /usr/local/lib/python3.6/site-packages (from ipython>=5.0.0->ipykernel->notebook>=6.0->RISE) (0.7.5)\n",
      "Requirement already satisfied: prompt-toolkit!=3.0.0,!=3.0.1,<3.1.0,>=2.0.0 in /usr/local/lib/python3.6/site-packages (from ipython>=5.0.0->ipykernel->notebook>=6.0->RISE) (3.0.24)\n",
      "Requirement already satisfied: backcall in /usr/local/lib/python3.6/site-packages (from ipython>=5.0.0->ipykernel->notebook>=6.0->RISE) (0.2.0)\n",
      "Requirement already satisfied: pexpect; sys_platform != \"win32\" in /usr/local/lib/python3.6/site-packages (from ipython>=5.0.0->ipykernel->notebook>=6.0->RISE) (4.8.0)\n",
      "Requirement already satisfied: setuptools>=18.5 in /usr/local/lib/python3.6/site-packages (from ipython>=5.0.0->ipykernel->notebook>=6.0->RISE) (46.1.3)\n",
      "Requirement already satisfied: pyrsistent>=0.14.0 in /usr/local/lib/python3.6/site-packages (from jsonschema!=2.5.0,>=2.4->nbformat->notebook>=6.0->RISE) (0.18.0)\n",
      "Requirement already satisfied: attrs>=17.4.0 in /usr/local/lib/python3.6/site-packages (from jsonschema!=2.5.0,>=2.4->nbformat->notebook>=6.0->RISE) (21.3.0)\n",
      "Requirement already satisfied: importlib-metadata; python_version < \"3.8\" in /usr/local/lib/python3.6/site-packages (from jsonschema!=2.5.0,>=2.4->nbformat->notebook>=6.0->RISE) (4.8.3)\n",
      "Requirement already satisfied: pyparsing!=3.0.5,>=2.0.2 in /usr/local/lib/python3.6/site-packages (from packaging->bleach->nbconvert->notebook>=6.0->RISE) (3.0.6)\n",
      "Requirement already satisfied: pycparser in /usr/local/lib/python3.6/site-packages (from cffi>=1.0.1->argon2-cffi-bindings->argon2-cffi->notebook>=6.0->RISE) (2.21)\n",
      "Requirement already satisfied: parso<0.8.0,>=0.7.0 in /usr/local/lib/python3.6/site-packages (from jedi<=0.17.2,>=0.10->ipython>=5.0.0->ipykernel->notebook>=6.0->RISE) (0.7.1)\n",
      "Requirement already satisfied: wcwidth in /usr/local/lib/python3.6/site-packages (from prompt-toolkit!=3.0.0,!=3.0.1,<3.1.0,>=2.0.0->ipython>=5.0.0->ipykernel->notebook>=6.0->RISE) (0.2.5)\n",
      "Requirement already satisfied: zipp>=0.5 in /usr/local/lib/python3.6/site-packages (from importlib-metadata; python_version < \"3.8\"->jsonschema!=2.5.0,>=2.4->nbformat->notebook>=6.0->RISE) (3.6.0)\n",
      "\u001b[33mWARNING: You are using pip version 20.0.2; however, version 21.3.1 is available.\n",
      "You should consider upgrading via the '/usr/local/bin/python -m pip install --upgrade pip' command.\u001b[0m\n",
      "Requirement already satisfied: graphviz in /usr/local/lib/python3.6/site-packages (0.19.1)\n",
      "\u001b[33mWARNING: You are using pip version 20.0.2; however, version 21.3.1 is available.\n",
      "You should consider upgrading via the '/usr/local/bin/python -m pip install --upgrade pip' command.\u001b[0m\n"
     ]
    }
   ],
   "source": [
    "!pip install RISE # for ppt\n",
    "!pip install graphviz  \n",
    "from graphviz import Digraph "
   ]
  },
  {
   "cell_type": "markdown",
   "metadata": {
    "slideshow": {
     "slide_type": "subslide"
    }
   },
   "source": [
    "![t](./assets/img/chapter2_mind.png)"
   ]
  },
  {
   "cell_type": "markdown",
   "metadata": {
    "slideshow": {
     "slide_type": "slide"
    }
   },
   "source": [
    "## 2.0 渐进符号\n",
    "\n",
    "* 紧确界 $\\Theta$\n",
    "\n",
    "$\\Theta(n^2)$\n",
    "* 上界 $O$\n",
    "\n",
    "$O(n^2)$  \n",
    "\n",
    "$O(nlg^n)$\n",
    "* 非紧上界 $o$\n",
    "* 下界 $\\Omega$\n",
    "\n",
    "$\\Omega(n)$\n",
    "* 非紧下界 $omega$"
   ]
  },
  {
   "cell_type": "markdown",
   "metadata": {
    "slideshow": {
     "slide_type": "slide"
    }
   },
   "source": [
    "## 2.0 渐进符号\n",
    "\n",
    "* 紧确界 $\\Theta$\n",
    "\n",
    "$\\Theta(g(n))=\\{f(n): 存在正常数c_1，c_2 和 n_0， 使对所有的 n >= n_0, 有 0 <= c_1g(n) <= f(n) <= c_2g(n)\\}$\n",
    "\n",
    "* 上界 $O$\n",
    "\n",
    "$O(g(n))=\\{f(n): 存在正常数c 和 n_0， 使对所有的 n >= n_0, 有 0 <= f(n) <= cg(n)\\}$\n",
    "\n",
    "* 非紧上界 $o$\n",
    "\n",
    "$o(g(n))=\\{f(n): 存在正常数c 和 n_0， 使对所有的 n >= n_0, 有 0 <= f(n) < cg(n)\\}$\n",
    "\n",
    "* 下界 $\\Omega$\n",
    "\n",
    "$\\Omega(g(n))=\\{f(n): 存在正常数c， 使对所有的 n >= n_0, 有 0 <= c(n) <= f(n) \\}$\n",
    "\n",
    "* 非紧下界 $omega$\n",
    "\n",
    "$\\Omega(g(n))=\\{f(n): 存在正常数c， 使对所有的 n >= n_0, 有 0 <= c(n) < f(n) \\}$\n",
    "\n"
   ]
  },
  {
   "cell_type": "markdown",
   "metadata": {
    "slideshow": {
     "slide_type": "slide"
    }
   },
   "source": [
    "## 2.0 渐进符号\n",
    "\n",
    "<img style=\"float: center;\" src=\"./assets/img/func_trend.png\" width=800 height=600 align=\"center\">\n"
   ]
  },
  {
   "cell_type": "markdown",
   "metadata": {
    "slideshow": {
     "slide_type": "slide"
    }
   },
   "source": [
    "## 2.1 递归：计算思维的核心\n",
    "|属性 | 递推(Iterative) | 递归(Recursive) |\n",
    "|--- | --- | --- |\n",
    "|特点 | 从小到大，从易到难，由局部到整体 | 从大到小，从难到易，由整体到局部 |\n",
    "|优点 | 直观，易理解| 1. 只要解决当前一步的问题，就能解决全部的问题 |\n",
    "|优点 | | 2. 解题过程可复制 |\n",
    "|条件 | | 1. 每一个问题的形式相同 |\n",
    "|条件 | | 2. 确定好结束条件 |\n",
    "|例子 | 2! -> 5! -> 100! | 100! = 100 * 99! |\n",
    "\n"
   ]
  },
  {
   "cell_type": "markdown",
   "metadata": {
    "slideshow": {
     "slide_type": "slide"
    }
   },
   "source": [
    "### 抢20问题\n",
    "你和一位对手来做一个游戏。\n",
    "\n",
    "你们其中的一个人先从1和2中挑一个数字，另一个则在对方的基础上选择加1或者加2。\n",
    "\n",
    "然后又轮到先前的人，你或者他可以再次选择加1或者加2。\n",
    "\n",
    "之后双方交替的选择加1或者加2，谁正好加到20，谁就赢了。\n",
    "\n",
    "你用什么策略来保证一定赢？\n"
   ]
  },
  {
   "cell_type": "markdown",
   "metadata": {
    "slideshow": {
     "slide_type": "subslide"
    }
   },
   "source": [
    "递归：要抢到20，只要保证能抢到17\n",
    "\n",
    "17"
   ]
  },
  {
   "cell_type": "markdown",
   "metadata": {
    "slideshow": {
     "slide_type": "subslide"
    }
   },
   "source": [
    "递归：要抢到17，只要保证能抢到14\n",
    "\n",
    "17\n",
    "14\n"
   ]
  },
  {
   "cell_type": "markdown",
   "metadata": {
    "slideshow": {
     "slide_type": "subslide"
    }
   },
   "source": [
    "递归：最终推出，只要能抢到2就能保证抢到20\n",
    "\n",
    "17\n",
    "14\n",
    "11\n",
    "8\n",
    "5\n",
    "2"
   ]
  },
  {
   "cell_type": "markdown",
   "metadata": {
    "slideshow": {
     "slide_type": "slide"
    }
   },
   "source": [
    "### 上台阶问题\n",
    "按照`抢20问题`的方法，从1开始（以1为七点）加到20，每次可以增加1或者2，有多少种不同的增加方法？比如<br>\n",
    "1、4、7、10、12、15、18、20是一种,<br>\n",
    "1、2、5、8、11、14、17、20又是一种。<br>\n",
    "我们想知道这样不同的过程由多少种。"
   ]
  },
  {
   "cell_type": "markdown",
   "metadata": {
    "slideshow": {
     "slide_type": "subslide"
    }
   },
   "source": [
    "先看答案\n",
    "\n",
    "$F(n)=\\frac{(\\frac{(1+\\sqrt5)}{2})^n-(\\frac{(1-\\sqrt5)}{2})^n}{\\sqrt5}$\n",
    "\n",
    "如果使用归纳法，很难推到出此公式，但是使用递归方法就很容易"
   ]
  },
  {
   "cell_type": "markdown",
   "metadata": {
    "slideshow": {
     "slide_type": "subslide"
    }
   },
   "source": [
    "**递归方法**\n",
    "\n",
    "$F(20) = F(19) + F(18)$<br>\n",
    "$F(19) = F(18) + F(17)$<br>\n",
    "$F(18) = F(17) + F(16)$<br>\n",
    "...<br>\n",
    "...<br>\n",
    "$F(1) = 1$<br>\n",
    "$F(0) = 1$\n",
    "\n",
    "**斐波那契数列！**"
   ]
  },
  {
   "cell_type": "code",
   "execution_count": 1,
   "metadata": {
    "slideshow": {
     "slide_type": "subslide"
    }
   },
   "outputs": [
    {
     "name": "stdout",
     "output_type": "stream",
     "text": [
      "fib(20):6765\n",
      "num_of_ways_to_n(n):6765\n"
     ]
    }
   ],
   "source": [
    "import math\n",
    "\n",
    "def fib(n):\n",
    "    if n < 2:\n",
    "        return n\n",
    "    return fib(n-1) + fib(n-2)\n",
    "\n",
    "def num_of_ways_to_n(n):\n",
    "    return math.floor(((((1 + math.sqrt(5))/2)**n) - (((1 - math.sqrt(5))/2)**n))/math.sqrt(5))\n",
    "\n",
    "print('fib(20):{}'.format(fib(20)))\n",
    "print('num_of_ways_to_n(n):{}'.format(num_of_ways_to_n(20)))"
   ]
  },
  {
   "cell_type": "markdown",
   "metadata": {
    "slideshow": {
     "slide_type": "slide"
    }
   },
   "source": [
    "### 汉诺塔\n",
    "\n",
    "汉诺塔（港台：河内塔）（Tower of Hanoi）是根据一个传说形成的数学问题：\n",
    "\n",
    "有三根杆子A，B，C。A杆上有 64 个 (N>1) 穿孔圆盘，盘的尺寸由下到上依次变小。要求按下列规则将所有圆盘移至 C 杆：\n",
    "\n",
    "每次只能移动一个圆盘；\n",
    "大盘不能叠在小盘上面。\n",
    "提示：可将圆盘临时置于 B 杆，也可将从 A 杆移出的圆盘重新移回 A 杆，但都必须遵循上述两条规则。\n",
    "\n",
    "问：如何移？最少要移动多少次？\n",
    "![](./assets/img/tower_of_hanoi.jpg)"
   ]
  },
  {
   "cell_type": "markdown",
   "metadata": {
    "slideshow": {
     "slide_type": "subslide"
    }
   },
   "source": [
    "### 汉诺塔递归解法调用示意图\n",
    "<img style=\"float: right;\" src=\"./assets/img/hanoi_recursion.jpg\" width=900 height=600 align=\"center\">"
   ]
  },
  {
   "cell_type": "markdown",
   "metadata": {
    "slideshow": {
     "slide_type": "subslide"
    }
   },
   "source": [
    "### 汉诺塔递归解法调用示意图\n",
    "<img style=\"float: right;\" src=\"./assets/img/hanoi_recursion.jpg\" width=900 height=600  align=\"center\">\n",
    "\n",
    "\n",
    "移动次数：$S(64) = 2S(63) + 1 = 2^{64} - 1$"
   ]
  },
  {
   "cell_type": "code",
   "execution_count": 35,
   "metadata": {
    "slideshow": {
     "slide_type": "subslide"
    }
   },
   "outputs": [],
   "source": [
    "def hanoi(n, src, dest, temp, counter, is_print=False):\n",
    "    if n == 1:\n",
    "        if is_print:\n",
    "            print(src, '-->', temp)\n",
    "        counter = counter + 1\n",
    "        return counter\n",
    "    else:\n",
    "        counter = hanoi(n - 1, src, temp, dest, counter, is_print)\n",
    "        counter = hanoi(1    , src, dest, temp, counter, is_print)\n",
    "        counter = hanoi(n - 1, temp, dest, src, counter, is_print)\n",
    "        \n",
    "    return counter\n"
   ]
  },
  {
   "cell_type": "code",
   "execution_count": 36,
   "metadata": {
    "slideshow": {
     "slide_type": "subslide"
    }
   },
   "outputs": [
    {
     "name": "stdout",
     "output_type": "stream",
     "text": [
      "A --> B\n",
      "A --> T\n",
      "T --> A\n",
      "A --> B\n",
      "B --> T\n",
      "B --> A\n",
      "A --> B\n",
      "Total moving 7 steps for hanoi tower of 3 disks.\n"
     ]
    }
   ],
   "source": [
    "counter  = 0\n",
    "N = 3\n",
    "\n",
    "counter = hanoi(N, 'A', 'T', 'B', counter, is_print=True)\n",
    "print('Total moving {} steps for hanoi tower of {} disks.'.format(counter, N))"
   ]
  },
  {
   "cell_type": "code",
   "execution_count": 17,
   "metadata": {
    "slideshow": {
     "slide_type": "subslide"
    }
   },
   "outputs": [
    {
     "name": "stdout",
     "output_type": "stream",
     "text": [
      "Total moving 63 steps for hanoi tower of 6 disks.\n"
     ]
    }
   ],
   "source": [
    "counter  = 0\n",
    "N = 6\n",
    "\n",
    "counter = hanoi(N, 'A', 'T', 'B', counter)\n",
    "print('Total moving {} steps for hanoi tower of {} disks.'.format(counter, N))"
   ]
  },
  {
   "cell_type": "markdown",
   "metadata": {
    "slideshow": {
     "slide_type": "slide"
    }
   },
   "source": [
    "### 八皇后问题\n",
    "这个问题是19实际的一位国际象棋手Max Bethel提出的，讲的是在8x8格的国际象棋上摆放8个皇后，使其不会互相攻击，问有多少种摆法？怎么摆？\n",
    "\n",
    "<img style=\"float: center;\" src=\"./assets/img/sample-queen-8.png\" width=600 height=600  align=\"center\">\n"
   ]
  },
  {
   "cell_type": "markdown",
   "metadata": {
    "slideshow": {
     "slide_type": "subslide"
    }
   },
   "source": [
    "<code>\n",
    "// 一列一列的放置皇后\n",
    "// 棋盘上当前已经摆放的皇后的状态存放再board这个数组中\n",
    "// 在row行column列放入一个皇后之后，我们会调用一个函数isValid（）\n",
    "// 检查当下棋盘状态是否合法。\n",
    "// 使用backtracking search\n",
    "boolean Find8QueenSolution(int board[], int column) {\n",
    "  if (所有列都放好了）\n",
    "      return true;    \n",
    "  for each row of the board {\n",
    "      if isValid(board, row, column) {\n",
    "          board[column] = row;  // 在棋盘的row行column列放一个皇后\n",
    "          // 递归调用该函数本身，看看是否在下一列依然能找到函数的摆放位置\n",
    "          // 如果可以，说明到第column列的摆放是合法的\n",
    "          // 如果不可以，说明不能在第row行column列放一个皇后\n",
    "          // 如果这一列找不到一个合适的摆放位置\n",
    "          // 要回溯到上一列，重新测试新的位置\n",
    "          if (Find8QueenSolution(board, column+1)) {\n",
    "              return true;\n",
    "          } else {\n",
    "              board[column] = 0;  // 把row行column列的皇后拿走\n",
    "          }\n",
    "      }\n",
    "  }\n",
    "  return false;\n",
    "}</code>"
   ]
  },
  {
   "cell_type": "code",
   "execution_count": null,
   "metadata": {
    "slideshow": {
     "slide_type": "subslide"
    }
   },
   "outputs": [],
   "source": [
    "def BacktrackSearch8Queen(board, column):\n",
    "    "
   ]
  },
  {
   "cell_type": "markdown",
   "metadata": {
    "slideshow": {
     "slide_type": "slide"
    }
   },
   "source": [
    "## 2.2 遍历：递归思想的典型应用\n",
    "\n"
   ]
  },
  {
   "cell_type": "code",
   "execution_count": 34,
   "metadata": {
    "slideshow": {
     "slide_type": "subslide"
    }
   },
   "outputs": [
    {
     "data": {
      "image/svg+xml": [
       "<?xml version=\"1.0\" encoding=\"UTF-8\" standalone=\"no\"?>\n",
       "<!DOCTYPE svg PUBLIC \"-//W3C//DTD SVG 1.1//EN\"\n",
       " \"http://www.w3.org/Graphics/SVG/1.1/DTD/svg11.dtd\">\n",
       "<!-- Generated by graphviz version 2.40.1 (20161225.0304)\n",
       " -->\n",
       "<!-- Title: %3 Pages: 1 -->\n",
       "<svg width=\"350pt\" height=\"188pt\"\n",
       " viewBox=\"0.00 0.00 350.00 188.00\" xmlns=\"http://www.w3.org/2000/svg\" xmlns:xlink=\"http://www.w3.org/1999/xlink\">\n",
       "<g id=\"graph0\" class=\"graph\" transform=\"scale(1 1) rotate(0) translate(4 184)\">\n",
       "<title>%3</title>\n",
       "<polygon fill=\"#ffffff\" stroke=\"transparent\" points=\"-4,4 -4,-184 346,-184 346,4 -4,4\"/>\n",
       "<!-- 1 -->\n",
       "<g id=\"node1\" class=\"node\">\n",
       "<title>1</title>\n",
       "<ellipse fill=\"none\" stroke=\"#000000\" cx=\"171\" cy=\"-162\" rx=\"27\" ry=\"18\"/>\n",
       "<text text-anchor=\"middle\" x=\"171\" y=\"-158.3\" font-family=\"Times,serif\" font-size=\"14.00\" fill=\"#000000\">1</text>\n",
       "</g>\n",
       "<!-- 2 -->\n",
       "<g id=\"node2\" class=\"node\">\n",
       "<title>2</title>\n",
       "<ellipse fill=\"none\" stroke=\"#000000\" cx=\"99\" cy=\"-90\" rx=\"27\" ry=\"18\"/>\n",
       "<text text-anchor=\"middle\" x=\"99\" y=\"-86.3\" font-family=\"Times,serif\" font-size=\"14.00\" fill=\"#000000\">2</text>\n",
       "</g>\n",
       "<!-- 1&#45;&gt;2 -->\n",
       "<g id=\"edge1\" class=\"edge\">\n",
       "<title>1&#45;&gt;2</title>\n",
       "<path fill=\"none\" stroke=\"#000000\" d=\"M155.7307,-146.7307C145.803,-136.803 132.6847,-123.6847 121.5637,-112.5637\"/>\n",
       "<polygon fill=\"#000000\" stroke=\"#000000\" points=\"123.7933,-109.8436 114.2473,-105.2473 118.8436,-114.7933 123.7933,-109.8436\"/>\n",
       "</g>\n",
       "<!-- 3 -->\n",
       "<g id=\"node3\" class=\"node\">\n",
       "<title>3</title>\n",
       "<ellipse fill=\"none\" stroke=\"#000000\" cx=\"171\" cy=\"-90\" rx=\"27\" ry=\"18\"/>\n",
       "<text text-anchor=\"middle\" x=\"171\" y=\"-86.3\" font-family=\"Times,serif\" font-size=\"14.00\" fill=\"#000000\">3</text>\n",
       "</g>\n",
       "<!-- 1&#45;&gt;3 -->\n",
       "<g id=\"edge2\" class=\"edge\">\n",
       "<title>1&#45;&gt;3</title>\n",
       "<path fill=\"none\" stroke=\"#000000\" d=\"M171,-143.8314C171,-136.131 171,-126.9743 171,-118.4166\"/>\n",
       "<polygon fill=\"#000000\" stroke=\"#000000\" points=\"174.5001,-118.4132 171,-108.4133 167.5001,-118.4133 174.5001,-118.4132\"/>\n",
       "</g>\n",
       "<!-- 4 -->\n",
       "<g id=\"node4\" class=\"node\">\n",
       "<title>4</title>\n",
       "<ellipse fill=\"none\" stroke=\"#000000\" cx=\"243\" cy=\"-90\" rx=\"27\" ry=\"18\"/>\n",
       "<text text-anchor=\"middle\" x=\"243\" y=\"-86.3\" font-family=\"Times,serif\" font-size=\"14.00\" fill=\"#000000\">4</text>\n",
       "</g>\n",
       "<!-- 1&#45;&gt;4 -->\n",
       "<g id=\"edge3\" class=\"edge\">\n",
       "<title>1&#45;&gt;4</title>\n",
       "<path fill=\"none\" stroke=\"#000000\" d=\"M186.2693,-146.7307C196.197,-136.803 209.3153,-123.6847 220.4363,-112.5637\"/>\n",
       "<polygon fill=\"#000000\" stroke=\"#000000\" points=\"223.1564,-114.7933 227.7527,-105.2473 218.2067,-109.8436 223.1564,-114.7933\"/>\n",
       "</g>\n",
       "<!-- 5 -->\n",
       "<g id=\"node5\" class=\"node\">\n",
       "<title>5</title>\n",
       "<ellipse fill=\"none\" stroke=\"#000000\" cx=\"27\" cy=\"-18\" rx=\"27\" ry=\"18\"/>\n",
       "<text text-anchor=\"middle\" x=\"27\" y=\"-14.3\" font-family=\"Times,serif\" font-size=\"14.00\" fill=\"#000000\">5</text>\n",
       "</g>\n",
       "<!-- 2&#45;&gt;5 -->\n",
       "<g id=\"edge4\" class=\"edge\">\n",
       "<title>2&#45;&gt;5</title>\n",
       "<path fill=\"none\" stroke=\"#000000\" d=\"M83.7307,-74.7307C73.803,-64.803 60.6847,-51.6847 49.5637,-40.5637\"/>\n",
       "<polygon fill=\"#000000\" stroke=\"#000000\" points=\"51.7933,-37.8436 42.2473,-33.2473 46.8436,-42.7933 51.7933,-37.8436\"/>\n",
       "</g>\n",
       "<!-- 6 -->\n",
       "<g id=\"node6\" class=\"node\">\n",
       "<title>6</title>\n",
       "<ellipse fill=\"none\" stroke=\"#000000\" cx=\"99\" cy=\"-18\" rx=\"27\" ry=\"18\"/>\n",
       "<text text-anchor=\"middle\" x=\"99\" y=\"-14.3\" font-family=\"Times,serif\" font-size=\"14.00\" fill=\"#000000\">6</text>\n",
       "</g>\n",
       "<!-- 2&#45;&gt;6 -->\n",
       "<g id=\"edge5\" class=\"edge\">\n",
       "<title>2&#45;&gt;6</title>\n",
       "<path fill=\"none\" stroke=\"#000000\" d=\"M99,-71.8314C99,-64.131 99,-54.9743 99,-46.4166\"/>\n",
       "<polygon fill=\"#000000\" stroke=\"#000000\" points=\"102.5001,-46.4132 99,-36.4133 95.5001,-46.4133 102.5001,-46.4132\"/>\n",
       "</g>\n",
       "<!-- 7 -->\n",
       "<g id=\"node7\" class=\"node\">\n",
       "<title>7</title>\n",
       "<ellipse fill=\"none\" stroke=\"#000000\" cx=\"171\" cy=\"-18\" rx=\"27\" ry=\"18\"/>\n",
       "<text text-anchor=\"middle\" x=\"171\" y=\"-14.3\" font-family=\"Times,serif\" font-size=\"14.00\" fill=\"#000000\">7</text>\n",
       "</g>\n",
       "<!-- 2&#45;&gt;7 -->\n",
       "<g id=\"edge6\" class=\"edge\">\n",
       "<title>2&#45;&gt;7</title>\n",
       "<path fill=\"none\" stroke=\"#000000\" d=\"M114.2693,-74.7307C124.197,-64.803 137.3153,-51.6847 148.4363,-40.5637\"/>\n",
       "<polygon fill=\"#000000\" stroke=\"#000000\" points=\"151.1564,-42.7933 155.7527,-33.2473 146.2067,-37.8436 151.1564,-42.7933\"/>\n",
       "</g>\n",
       "<!-- 8 -->\n",
       "<g id=\"node8\" class=\"node\">\n",
       "<title>8</title>\n",
       "<ellipse fill=\"none\" stroke=\"#000000\" cx=\"243\" cy=\"-18\" rx=\"27\" ry=\"18\"/>\n",
       "<text text-anchor=\"middle\" x=\"243\" y=\"-14.3\" font-family=\"Times,serif\" font-size=\"14.00\" fill=\"#000000\">8</text>\n",
       "</g>\n",
       "<!-- 4&#45;&gt;8 -->\n",
       "<g id=\"edge7\" class=\"edge\">\n",
       "<title>4&#45;&gt;8</title>\n",
       "<path fill=\"none\" stroke=\"#000000\" d=\"M243,-71.8314C243,-64.131 243,-54.9743 243,-46.4166\"/>\n",
       "<polygon fill=\"#000000\" stroke=\"#000000\" points=\"246.5001,-46.4132 243,-36.4133 239.5001,-46.4133 246.5001,-46.4132\"/>\n",
       "</g>\n",
       "<!-- 9 -->\n",
       "<g id=\"node9\" class=\"node\">\n",
       "<title>9</title>\n",
       "<ellipse fill=\"none\" stroke=\"#000000\" cx=\"315\" cy=\"-18\" rx=\"27\" ry=\"18\"/>\n",
       "<text text-anchor=\"middle\" x=\"315\" y=\"-14.3\" font-family=\"Times,serif\" font-size=\"14.00\" fill=\"#000000\">9</text>\n",
       "</g>\n",
       "<!-- 4&#45;&gt;9 -->\n",
       "<g id=\"edge8\" class=\"edge\">\n",
       "<title>4&#45;&gt;9</title>\n",
       "<path fill=\"none\" stroke=\"#000000\" d=\"M258.2693,-74.7307C268.197,-64.803 281.3153,-51.6847 292.4363,-40.5637\"/>\n",
       "<polygon fill=\"#000000\" stroke=\"#000000\" points=\"295.1564,-42.7933 299.7527,-33.2473 290.2067,-37.8436 295.1564,-42.7933\"/>\n",
       "</g>\n",
       "</g>\n",
       "</svg>\n"
      ],
      "text/plain": [
       "<graphviz.graphs.Digraph at 0x7f999163e7b8>"
      ]
     },
     "execution_count": 34,
     "metadata": {},
     "output_type": "execute_result"
    }
   ],
   "source": [
    "from graphviz import Digraph\n",
    "dot = Digraph()\n",
    "dot.node('1')\n",
    "dot.node('2')\n",
    "dot.node('3')\n",
    "dot.node('4')\n",
    "dot.node('5')\n",
    "dot.node('6')\n",
    "dot.node('7')\n",
    "dot.node('8')\n",
    "dot.node('9')\n",
    "dot.edges(['12'])\n",
    "dot.edges(['13'])\n",
    "dot.edges(['14'])\n",
    "dot.edges(['25'])\n",
    "dot.edges(['26'])\n",
    "dot.edges(['27'])\n",
    "dot.edges(['48'])\n",
    "dot.edges(['49'])\n",
    "dot"
   ]
  },
  {
   "cell_type": "markdown",
   "metadata": {
    "slideshow": {
     "slide_type": "slide"
    }
   },
   "source": [
    "### 树\n",
    "#### 树的特征\n",
    "- 每一个节点有唯一的父节点\n",
    "- 连通性\n",
    "- 不带有环<br>\n",
    "\n",
    "#### 树的属性\n",
    "度：子节点的数量<br>\n",
    "\n",
    "#### 树的种类\n",
    "- 满二叉树\n",
    "- 完全二叉树\n",
    "- 排序二叉树\n",
    "- 红黑树\n",
    "- B树"
   ]
  },
  {
   "cell_type": "markdown",
   "metadata": {
    "slideshow": {
     "slide_type": "slide"
    }
   },
   "source": [
    "### 二叉树及其遍历\n",
    "* 任何树和二叉树都是等价的\n",
    "* 有序树：遵循尊便的子节点在前面，右边的子节点在后面\n",
    "\n",
    "<code>\n",
    "    struct BinaryTree {\n",
    "        AnyDataMember;  // 任意数据项\n",
    "        BinaryTree left_subtree;  // 左子节点\n",
    "        BinaryTree right_subtree; // 右子节点\n",
    "    }\n",
    "</code>\n",
    "\n",
    "* 二叉树的遍历方法\n",
    "    * 深度优先\n",
    "    * 广度优先"
   ]
  },
  {
   "cell_type": "markdown",
   "metadata": {
    "slideshow": {
     "slide_type": "subslide"
    }
   },
   "source": [
    " <img style=\"float: center;\" src=\"./assets/img/sample_binary_tree.jpg\" width=300 height=400>\n",
    " \n",
    " ### 深度优先遍历规则\n",
    " * 从上到下顺序访问\n",
    " * 先左后右（或者先右后左）\n",
    " * 走到尽头就掉头\n",
    " \n",
    " $1->2->4->2->5->2->1->3->6->7$"
   ]
  },
  {
   "cell_type": "markdown",
   "metadata": {
    "slideshow": {
     "slide_type": "subslide"
    }
   },
   "source": [
    " <img style=\"float: center;\" src=\"./assets/img/sample_binary_tree.jpg\" width=300 height=400>\n",
    " \n",
    " ### 广度优先遍历规则\n",
    " * 将整颗二叉树从上到下分层，逐层扫描；\n",
    " * 每一层从左导游（也可以从右到左）扫描\n",
    " \n",
    " $1->2->3->4->5->6->7$"
   ]
  },
  {
   "cell_type": "markdown",
   "metadata": {
    "slideshow": {
     "slide_type": "subslide"
    }
   },
   "source": [
    "### 使用递归思想实现二叉树的遍历\n",
    "根据访问根节点的顺序可以分为\n",
    "* 中序遍历\n",
    "* 先序遍历\n",
    "* 后序遍历\n",
    "\n",
    "\n",
    "<code>\n",
    "DepthFirstTraverseTree(BinaryTree tree) {\n",
    "    if (tree = NIL) return;\n",
    "    DepthFirstTraverseTree(tree.left_subtree);\n",
    "    PrintNode();\n",
    "    DepthFirstTraverseTree(tree.right_subtree);\n",
    "}\n",
    "</code>\n",
    "\n",
    " <img style=\"float: center;\" src=\"./assets/img/sample_binary_tree.jpg\" width=300 height=400 align=\"left\">\n"
   ]
  },
  {
   "cell_type": "markdown",
   "metadata": {
    "slideshow": {
     "slide_type": "slide"
    }
   },
   "source": [
    "## 2.3 堆栈和队列：遍历的数据结构"
   ]
  },
  {
   "cell_type": "markdown",
   "metadata": {
    "slideshow": {
     "slide_type": "subslide"
    }
   },
   "source": [
    "### 堆栈\n",
    "| |\n",
    "| --- |\n",
    "|  |\n",
    "|  |\n",
    "| Hanoi（1, A, T, B) |\n",
    "| Hanoi（2, A, B, T) |\n",
    "| ... |\n",
    "| Hanoi（62, A, B, T) |\n",
    "| Hanoi（63, A, T, B) |\n",
    "| Hanoi（64, A, B, T) |"
   ]
  },
  {
   "cell_type": "code",
   "execution_count": 1,
   "metadata": {
    "slideshow": {
     "slide_type": "subslide"
    }
   },
   "outputs": [
    {
     "name": "stdout",
     "output_type": "stream",
     "text": [
      "\u001b[36m#\u001b[39;49;00m\u001b[36minclude\u001b[39;49;00m\u001b[37m \u001b[39;49;00m\u001b[37m<stdio.h>\u001b[39;49;00m\u001b[36m\u001b[39;49;00m\r\n",
      "\u001b[37m\u001b[39;49;00m\r\n",
      "\u001b[37m// a: src\u001b[39;49;00m\r\n",
      "\u001b[37m// b: dst\u001b[39;49;00m\r\n",
      "\u001b[36mvoid\u001b[39;49;00m\u001b[37m \u001b[39;49;00m\u001b[32mTowers\u001b[39;49;00m(\u001b[36mint\u001b[39;49;00m\u001b[37m \u001b[39;49;00mn,\u001b[36mchar\u001b[39;49;00m\u001b[37m \u001b[39;49;00ma,\u001b[36mchar\u001b[39;49;00m\u001b[37m \u001b[39;49;00mt,\u001b[36mchar\u001b[39;49;00m\u001b[37m \u001b[39;49;00mb){\u001b[37m\u001b[39;49;00m\r\n",
      "\u001b[37m\t\u001b[39;49;00m\u001b[34mif\u001b[39;49;00m(n==\u001b[34m1\u001b[39;49;00m){\u001b[37m\u001b[39;49;00m\r\n",
      "\u001b[37m\t\t\u001b[39;49;00mprintf(\u001b[33m\"\u001b[39;49;00m\u001b[33mMove disk %d from %c to %c\u001b[39;49;00m\u001b[33m\\n\u001b[39;49;00m\u001b[33m\"\u001b[39;49;00m,\u001b[37m \u001b[39;49;00mn,\u001b[37m \u001b[39;49;00ma,\u001b[37m \u001b[39;49;00mb);\u001b[37m\u001b[39;49;00m\r\n",
      "\u001b[37m\t\u001b[39;49;00m}\u001b[37m\u001b[39;49;00m\r\n",
      "\u001b[37m\t\u001b[39;49;00m\u001b[34melse\u001b[39;49;00m{\u001b[37m\u001b[39;49;00m\r\n",
      "\u001b[37m\t\t\u001b[39;49;00mTowers(n\u001b[34m-1\u001b[39;49;00m,a,b,t);\u001b[37m\u001b[39;49;00m\r\n",
      "\u001b[37m\t\t\u001b[39;49;00mprintf(\u001b[33m\"\u001b[39;49;00m\u001b[33mMove disk %d from %c to %c\u001b[39;49;00m\u001b[33m\\n\u001b[39;49;00m\u001b[33m\"\u001b[39;49;00m,\u001b[37m \u001b[39;49;00mn,\u001b[37m \u001b[39;49;00ma,\u001b[37m \u001b[39;49;00mb);\u001b[37m\u001b[39;49;00m\r\n",
      "\u001b[37m\t\t\u001b[39;49;00mTowers(n\u001b[34m-1\u001b[39;49;00m,t,b,a);\u001b[37m\u001b[39;49;00m\r\n",
      "\u001b[37m\t\u001b[39;49;00m}\u001b[37m\u001b[39;49;00m\r\n",
      "}\u001b[37m\u001b[39;49;00m\r\n",
      "\u001b[36mint\u001b[39;49;00m\u001b[37m \u001b[39;49;00m\u001b[32mmain\u001b[39;49;00m(\u001b[36mint\u001b[39;49;00m\u001b[37m \u001b[39;49;00margc,\u001b[37m \u001b[39;49;00m\u001b[36mchar\u001b[39;49;00m\u001b[37m \u001b[39;49;00m*argv[])\u001b[37m \u001b[39;49;00m{\u001b[37m\u001b[39;49;00m\r\n",
      "\u001b[37m\t\u001b[39;49;00m\u001b[36mint\u001b[39;49;00m\u001b[37m \u001b[39;49;00mn\u001b[37m \u001b[39;49;00m=\u001b[37m \u001b[39;49;00m\u001b[34m64\u001b[39;49;00m;\u001b[37m\u001b[39;49;00m\r\n",
      "\u001b[37m\t\u001b[39;49;00mTowers(n,\u001b[33m'\u001b[39;49;00m\u001b[33mA\u001b[39;49;00m\u001b[33m'\u001b[39;49;00m,\u001b[33m'\u001b[39;49;00m\u001b[33mT\u001b[39;49;00m\u001b[33m'\u001b[39;49;00m,\u001b[33m'\u001b[39;49;00m\u001b[33mB\u001b[39;49;00m\u001b[33m'\u001b[39;49;00m);\u001b[37m\u001b[39;49;00m\r\n",
      "\u001b[37m\t\u001b[39;49;00m\u001b[34mreturn\u001b[39;49;00m\u001b[37m \u001b[39;49;00m\u001b[34m0\u001b[39;49;00m;\u001b[37m\u001b[39;49;00m\r\n",
      "}\u001b[37m\u001b[39;49;00m\r\n"
     ]
    }
   ],
   "source": [
    "!pygmentize hanoi.cc"
   ]
  },
  {
   "cell_type": "code",
   "execution_count": 4,
   "metadata": {
    "slideshow": {
     "slide_type": "subslide"
    }
   },
   "outputs": [],
   "source": [
    "!clang++  -g hanoi.cc -o hanoi\n",
    "#！gdb"
   ]
  },
  {
   "cell_type": "code",
   "execution_count": 6,
   "metadata": {
    "slideshow": {
     "slide_type": "subslide"
    }
   },
   "outputs": [
    {
     "name": "stdout",
     "output_type": "stream",
     "text": [
      "GNU gdb (GDB) 7.11\r\n",
      "Copyright (C) 2016 Free Software Foundation, Inc.\r\n",
      "License GPLv3+: GNU GPL version 3 or later <http://gnu.org/licenses/gpl.html>\r\n",
      "This is free software: you are free to change and redistribute it.\r\n",
      "There is NO WARRANTY, to the extent permitted by law.  Type \"show copying\"\r\n",
      "and \"show warranty\" for details.\r\n",
      "This GDB was configured as \"x86_64-linux-gnu\".\r\n",
      "Type \"show configuration\" for configuration details.\r\n",
      "For bug reporting instructions, please see:\r\n",
      "<http://www.gnu.org/software/gdb/bugs/>.\r\n",
      "Find the GDB manual and other documentation resources online at:\r\n",
      "<http://www.gnu.org/software/gdb/documentation/>.\r\n",
      "For help, type \"help\".\r\n",
      "Type \"apropos word\" to search for commands related to \"word\"...\r\n",
      "Reading symbols from ./hanoi...done.\r\n",
      "(gdb) \r",
      "\u001b[C\u001b[16@reverse-i-search)`':\u001b[C\r",
      "\u001b[Cgdb) \u001b[K\r\n",
      "(gdb) break hanoi.cc:7\r\n",
      "Breakpoint 1 at 0x401155: file hanoi.cc, line 7.\r\n",
      "(gdb) r\r\n",
      "Starting program: /home/jiaosong/workspace/src/github/joeshow79/algorithm/the_essence_of_computing/hanoi \r\n",
      "\r\n",
      "Breakpoint 1, Towers (n=1, a=65 'A', t=66 'B', b=84 'T') at hanoi.cc:7\r\n",
      "7\t\t\tprintf(\"Move disk %d from %c to %c\\n\", n, a, b);\r\n",
      "(gdb) bt\r\n",
      "#0  Towers (n=1, a=65 'A', t=66 'B', b=84 'T') at hanoi.cc:7\r\n",
      "#1  0x0000000000401191 in Towers (n=2, a=65 'A', t=84 'T', b=66 'B') at hanoi.cc:10\r\n",
      "#2  0x0000000000401191 in Towers (n=3, a=65 'A', t=66 'B', b=84 'T') at hanoi.cc:10\r\n",
      "#3  0x0000000000401191 in Towers (n=4, a=65 'A', t=84 'T', b=66 'B') at hanoi.cc:10\r\n",
      "#4  0x0000000000401191 in Towers (n=5, a=65 'A', t=66 'B', b=84 'T') at hanoi.cc:10\r\n",
      "#5  0x0000000000401191 in Towers (n=6, a=65 'A', t=84 'T', b=66 'B') at hanoi.cc:10\r\n"
     ]
    }
   ],
   "source": [
    "!head -n 30 ./hanoi_stack.txt"
   ]
  },
  {
   "cell_type": "code",
   "execution_count": 8,
   "metadata": {
    "slideshow": {
     "slide_type": "subslide"
    }
   },
   "outputs": [
    {
     "name": "stdout",
     "output_type": "stream",
     "text": [
      "#5  0x0000000000401191 in Towers (n=6, a=65 'A', t=84 'T', b=66 'B') at hanoi.cc:10\r\n",
      "#6  0x0000000000401191 in Towers (n=7, a=65 'A', t=66 'B', b=84 'T') at hanoi.cc:10\r\n",
      "#7  0x0000000000401191 in Towers (n=8, a=65 'A', t=84 'T', b=66 'B') at hanoi.cc:10\r\n",
      "#8  0x0000000000401191 in Towers (n=9, a=65 'A', t=66 'B', b=84 'T') at hanoi.cc:10\r\n",
      "#9  0x0000000000401191 in Towers (n=10, a=65 'A', t=84 'T', b=66 'B') at hanoi.cc:10\r\n",
      "#10 0x0000000000401191 in Towers (n=11, a=65 'A', t=66 'B', b=84 'T') at hanoi.cc:10\r\n",
      "#11 0x0000000000401191 in Towers (n=12, a=65 'A', t=84 'T', b=66 'B') at hanoi.cc:10\r\n",
      "#12 0x0000000000401191 in Towers (n=13, a=65 'A', t=66 'B', b=84 'T') at hanoi.cc:10\r\n",
      "#13 0x0000000000401191 in Towers (n=14, a=65 'A', t=84 'T', b=66 'B') at hanoi.cc:10\r\n",
      "#14 0x0000000000401191 in Towers (n=15, a=65 'A', t=66 'B', b=84 'T') at hanoi.cc:10\r\n",
      "#15 0x0000000000401191 in Towers (n=16, a=65 'A', t=84 'T', b=66 'B') at hanoi.cc:10\r\n",
      "#16 0x0000000000401191 in Towers (n=17, a=65 'A', t=66 'B', b=84 'T') at hanoi.cc:10\r\n",
      "#17 0x0000000000401191 in Towers (n=18, a=65 'A', t=84 'T', b=66 'B') at hanoi.cc:10\r\n",
      "#18 0x0000000000401191 in Towers (n=19, a=65 'A', t=66 'B', b=84 'T') at hanoi.cc:10\r\n",
      "#19 0x0000000000401191 in Towers (n=20, a=65 'A', t=84 'T', b=66 'B') at hanoi.cc:10\r\n",
      "#20 0x0000000000401191 in Towers (n=21, a=65 'A', t=66 'B', b=84 'T') at hanoi.cc:10\r\n",
      "#21 0x0000000000401191 in Towers (n=22, a=65 'A', t=84 'T', b=66 'B') at hanoi.cc:10\r\n",
      "#22 0x0000000000401191 in Towers (n=23, a=65 'A', t=66 'B', b=84 'T') at hanoi.cc:10\r\n",
      "#23 0x0000000000401191 in Towers (n=24, a=65 'A', t=84 'T', b=66 'B') at hanoi.cc:10\r\n",
      "#24 0x0000000000401191 in Towers (n=25, a=65 'A', t=66 'B', b=84 'T') at hanoi.cc:10\r\n",
      "#25 0x0000000000401191 in Towers (n=26, a=65 'A', t=84 'T', b=66 'B') at hanoi.cc:10\r\n",
      "#26 0x0000000000401191 in Towers (n=27, a=65 'A', t=66 'B', b=84 'T') at hanoi.cc:10\r\n",
      "#27 0x0000000000401191 in Towers (n=28, a=65 'A', t=84 'T', b=66 'B') at hanoi.cc:10\r\n",
      "#28 0x0000000000401191 in Towers (n=29, a=65 'A', t=66 'B', b=84 'T') at hanoi.cc:10\r\n",
      "#29 0x0000000000401191 in Towers (n=30, a=65 'A', t=84 'T', b=66 'B') at hanoi.cc:10\r\n",
      "#30 0x0000000000401191 in Towers (n=31, a=65 'A', t=66 'B', b=84 'T') at hanoi.cc:10\r\n",
      "#31 0x0000000000401191 in Towers (n=32, a=65 'A', t=84 'T', b=66 'B') at hanoi.cc:10\r\n",
      "#32 0x0000000000401191 in Towers (n=33, a=65 'A', t=66 'B', b=84 'T') at hanoi.cc:10\r\n",
      "#33 0x0000000000401191 in Towers (n=34, a=65 'A', t=84 'T', b=66 'B') at hanoi.cc:10\r\n",
      "#34 0x0000000000401191 in Towers (n=35, a=65 'A', t=66 'B', b=84 'T') at hanoi.cc:10\r\n",
      "#35 0x0000000000401191 in Towers (n=36, a=65 'A', t=84 'T', b=66 'B') at hanoi.cc:10\r\n",
      "#36 0x0000000000401191 in Towers (n=37, a=65 'A', t=66 'B', b=84 'T') at hanoi.cc:10\r\n",
      "#37 0x0000000000401191 in Towers (n=38, a=65 'A', t=84 'T', b=66 'B') at hanoi.cc:10\r\n",
      "#38 0x0000000000401191 in Towers (n=39, a=65 'A', t=66 'B', b=84 'T') at hanoi.cc:10\r\n",
      "#39 0x0000000000401191 in Towers (n=40, a=65 'A', t=84 'T', b=66 'B') at hanoi.cc:10\r\n",
      "#40 0x0000000000401191 in Towers (n=41, a=65 'A', t=66 'B', b=84 'T') at hanoi.cc:10\r\n",
      "#41 0x0000000000401191 in Towers (n=42, a=65 'A', t=84 'T', b=66 'B') at hanoi.cc:10\r\n",
      "#42 0x0000000000401191 in Towers (n=43, a=65 'A', t=66 'B', b=84 'T') at hanoi.cc:10\r\n",
      "#43 0x0000000000401191 in Towers (n=44, a=65 'A', t=84 'T', b=66 'B') at hanoi.cc:10\r\n",
      "#44 0x0000000000401191 in Towers (n=45, a=65 'A', t=66 'B', b=84 'T') at hanoi.cc:10\r\n",
      "#45 0x0000000000401191 in Towers (n=46, a=65 'A', t=84 'T', b=66 'B') at hanoi.cc:10\r\n",
      "#46 0x0000000000401191 in Towers (n=47, a=65 'A', t=66 'B', b=84 'T') at hanoi.cc:10\r\n",
      "#47 0x0000000000401191 in Towers (n=48, a=65 'A', t=84 'T', b=66 'B') at hanoi.cc:10\r\n",
      "#48 0x0000000000401191 in Towers (n=49, a=65 'A', t=66 'B', b=84 'T') at hanoi.cc:10\r\n",
      "#49 0x0000000000401191 in Towers (n=50, a=65 'A', t=84 'T', b=66 'B') at hanoi.cc:10\r\n",
      "#50 0x0000000000401191 in Towers (n=51, a=65 'A', t=66 'B', b=84 'T') at hanoi.cc:10\r\n",
      "#51 0x0000000000401191 in Towers (n=52, a=65 'A', t=84 'T', b=66 'B') at hanoi.cc:10\r\n",
      "#52 0x0000000000401191 in Towers (n=53, a=65 'A', t=66 'B', b=84 'T') at hanoi.cc:10\r\n",
      "#53 0x0000000000401191 in Towers (n=54, a=65 'A', t=84 'T', b=66 'B') at hanoi.cc:10\r\n",
      "#54 0x0000000000401191 in Towers (n=55, a=65 'A', t=66 'B', b=84 'T') at hanoi.cc:10\r\n",
      "#55 0x0000000000401191 in Towers (n=56, a=65 'A', t=84 'T', b=66 'B') at hanoi.cc:10\r\n",
      "#56 0x0000000000401191 in Towers (n=57, a=65 'A', t=66 'B', b=84 'T') at hanoi.cc:10\r\n",
      "#57 0x0000000000401191 in Towers (n=58, a=65 'A', t=84 'T', b=66 'B') at hanoi.cc:10\r\n",
      "#58 0x0000000000401191 in Towers (n=59, a=65 'A', t=66 'B', b=84 'T') at hanoi.cc:10\r\n",
      "#59 0x0000000000401191 in Towers (n=60, a=65 'A', t=84 'T', b=66 'B') at hanoi.cc:10\r\n",
      "#60 0x0000000000401191 in Towers (n=61, a=65 'A', t=66 'B', b=84 'T') at hanoi.cc:10\r\n",
      "#61 0x0000000000401191 in Towers (n=62, a=65 'A', t=84 'T', b=66 'B') at hanoi.cc:10\r\n",
      "#62 0x0000000000401191 in Towers (n=63, a=65 'A', t=66 'B', b=84 'T') at hanoi.cc:10\r\n",
      "#63 0x0000000000401191 in Towers (n=64, a=65 'A', t=84 'T', b=66 'B') at hanoi.cc:10\r\n",
      "#64 0x0000000000401204 in main (argc=1, argv=0x7fffffffd188) at hanoi.cc:17\r\n"
     ]
    }
   ],
   "source": [
    "!head -n 89 ./hanoi_stack.txt | tail -n 60"
   ]
  },
  {
   "cell_type": "markdown",
   "metadata": {
    "slideshow": {
     "slide_type": "slide"
    }
   },
   "source": [
    "### 简单计算器\n",
    "实现一个简单计算器，它支持不带括号的四则运算，计算要满足先乘除后加减的规则。\n",
    "\n",
    "$5+4-2=$\n",
    "\n",
    "$5-4*3/4=$"
   ]
  },
  {
   "cell_type": "markdown",
   "metadata": {
    "slideshow": {
     "slide_type": "slide"
    }
   },
   "source": [
    "### 队列\n",
    "#### 借助队列实现宽度优先的二叉树遍历算法\n",
    "\n",
    "<code>BreadthFirstTraverseTree(BinaryTree tree){\n",
    "    if (tree = NIL) return;   \n",
    "    while (队列 queue不为空) {\n",
    "        if (node.left_subtree != NIL) {\n",
    "            将node.left_subtree放进队列queue\n",
    "        }\n",
    "        if (node.right_subtree != NIL) {\n",
    "            将node.right_subtree放进队列queue\n",
    "        }\n",
    "    }\n",
    "}</code>\n",
    "\n",
    " <img style=\"float: center;\" src=\"./assets/img/sample_binary_tree.jpg\" width=300 height=400>\n",
    "\n",
    "| | | | | | | | |\n",
    "| --- | --- | --- | --- | --- | --- | --- | --- |\n",
    "|将根节点推入Queue | 1 |  |  |  |  |  |  |  |\n",
    "|Queue循环    #1 | **1** | ___2___ | ___3___ |  |  |  |  |  |\n",
    "|Queue循环    #2  | 1 | **2** | 3 | ___4___ | ___5___ |  |  |  |\n",
    "|Queue循环    #3  | 1 | 2 | **3** | 4 | 5 | __6__ |  |  |\n",
    "|Queue循环    #4  | 1 | 2 | 3 | **4** | 5 | 6 |  |  |\n",
    "|Queue循环    #5  | 1 | 2 | 3 | 4 | **5** | 6 |  |  |\n",
    "|Queue循环    #6  | 1 | 2 | 3 | 4 | 5 | **6** | ___7___ |  |\n",
    "|Queue循环    #7  | 1 | 2 | 3 | 4 | 5 | 6 | **7** |  |\n",
    "\n"
   ]
  },
  {
   "cell_type": "markdown",
   "metadata": {
    "slideshow": {
     "slide_type": "slide"
    }
   },
   "source": [
    "## 2.4 嵌套：自然语言的机构特征"
   ]
  },
  {
   "cell_type": "markdown",
   "metadata": {
    "slideshow": {
     "slide_type": "subslide"
    }
   },
   "source": [
    "### 计算机和常人思维方式的差异\n",
    "\n",
    " <img style=\"float: center;\" src=\"./assets/img/computer_vs_human.jpg\" width=600 height=400 align=\"center\">\n"
   ]
  },
  {
   "cell_type": "markdown",
   "metadata": {
    "slideshow": {
     "slide_type": "subslide"
    }
   },
   "source": [
    "### 语法规则\n",
    "   \n",
    "\n",
    "\n",
    "\n",
    "| | |\n",
    "| --- | --- |\n",
    "| 句子 = 主语部分 + 谓语部分 | 主语部分 = 定语 + 名词短语 |\n",
    "| 定语= 名词短语 \\| 形容词短语 |  名词短语 = 形容词 + 名词|\n",
    "| 名词短语 = 名词 | 谓语部分 = 位于 + 宾语 |\n",
    "| 谓语部分 = 谓语 + 状语 | 宾语 = 句子\\|名词短语 |\n",
    "| 状语 = 副词 + 动词| |"
   ]
  },
  {
   "cell_type": "markdown",
   "metadata": {
    "slideshow": {
     "slide_type": "subslide"
    }
   },
   "source": [
    "### 语法树\n",
    "\n",
    "今年北京颐和园的游客人数比往年减少了一成\n",
    "\n",
    " <img style=\"float: center;\" src=\"./assets/img/pragmar_tree.png\" width=300 height=400 align=\"center\">\n"
   ]
  },
  {
   "cell_type": "markdown",
   "metadata": {
    "slideshow": {
     "slide_type": "subslide"
    }
   },
   "source": [
    "### 文法分析方法\n",
    "* 上下文无关文法分析\n",
    "\n",
    "如：名词短语 = 数量词 + 形容词 + 名词\n",
    "\n",
    "$O(N^2)$\n",
    "\n",
    "* 上下文相关文法分析\n",
    "\n",
    "如：（介词）名词短语（副词）= （介词）数量词 + 形容词 + 名词（副词）\n",
    "\n",
    "$O(N^6)$\n"
   ]
  },
  {
   "cell_type": "markdown",
   "metadata": {
    "slideshow": {
     "slide_type": "slide"
    }
   },
   "source": [
    "## 总结\n",
    "1. 递推和递归\n",
    "- 人的思维通常是递推，即从小到大、从简单情况到复杂情况、自顶向下拓展的，先把简单的问题搞清楚，看看能否找到规律，在用于复杂的情况\n",
    "- 计算思维通常是递归，自顶向下，先把大问题分解为小问题，小问题和大问题有着同样的结构和解决方法\n",
    "2. 遍历\n",
    "- 二叉树及深度有限遍历\n",
    "3. 堆栈和队列\n",
    "- 堆栈LIFO\n",
    "- 队列FIFO\n",
    "4. 嵌套\n",
    "- 自然语言的文法分析，就是把线性的句子变成一棵语法树\n",
    "- 分析一个语句需要很多文法规则\n",
    "- 文法规则过去由人工编写，现在通过机器学习得到\n",
    "- 文法规则可以是上下文无关的，也可以是上下文相关的"
   ]
  },
  {
   "cell_type": "markdown",
   "metadata": {
    "slideshow": {
     "slide_type": "slide"
    }
   },
   "source": [
    "## 思考题\n",
    "### 2.1 上台阶问题的扩展"
   ]
  },
  {
   "cell_type": "markdown",
   "metadata": {
    "slideshow": {
     "slide_type": "slide"
    }
   },
   "source": [
    "## 思考题\n",
    "### 2.2 \n",
    "#### Q1. 修改中序遍历算法2.2，将它变成先序遍历或者后序遍历算法。(⭐)"
   ]
  },
  {
   "cell_type": "markdown",
   "metadata": {
    "slideshow": {
     "slide_type": "slide"
    }
   },
   "source": [
    "## 思考题\n",
    "#### Q2. （二叉排序树）有这样一串数字5，2，8，0，10，7，18，20，30，12，15，1，将它们简称一棵二叉排序树。二叉排序树满足下面的条件。（⭐⭐）\n",
    "    （1）如果左子树不为空，则左子树上所有节点的值均小于树的根几点的值。同样，如果右子树补位空，则右子树上所有节点的值均大于树的根节点的值。\n",
    "    （2）左右子树本身也是二叉排序树。\n",
    "    对于上述数字，我们在建立二叉排序树时，先把第一个数字5放在根节点，然后扫描第二个数字2，由于它比根节点的数字5小，因此我们将它放在左子树中。接下来我们扫描第三个数字8，由于它比根节点的数字5大，因此我们将它放在右子树中。重复上述过程，我们可以简称完整的二叉排序树。请完成下面三个小问题。\n",
    "    （1）写一个算法完成上述操作。\n",
    "    （2）这个算法的复杂度是多少？\n",
    "    （3）用何种遍历方法得到的结果恰好把上面的一串数字排好序？"
   ]
  },
  {
   "cell_type": "markdown",
   "metadata": {
    "slideshow": {
     "slide_type": "slide"
    }
   },
   "source": [
    "## 思考题\n",
    "### 2.3\n",
    "#### Q1. 写出简单计算器的伪代码。（⭐）\n",
    "#### Q2. 回旋打印二叉树的节点。（⭐⭐⭐）\n",
    "修改二叉树的广度遍历算法，使得偶数行的节点从左向右遍历，奇数行的节点从右向左遍历。"
   ]
  },
  {
   "cell_type": "markdown",
   "metadata": {
    "slideshow": {
     "slide_type": "slide"
    }
   },
   "source": [
    "## 思考题\n",
    "### 2.4\n",
    "#### Q1. 二叉树的最大深度（也被称为树的高度）是从根节点到最远的叶子节点的节点数。请写一个判定任意二叉树最大深度的算法。（⭐）\n",
    "#### Q2. 如何在一个二叉树排序树中找到第二大的元素。（⭐）"
   ]
  },
  {
   "cell_type": "markdown",
   "metadata": {
    "slideshow": {
     "slide_type": "slide"
    }
   },
   "source": [
    "# 参考\n",
    "1. [Thomas H. Cormen, Charles E. Leiserson, Ronald L. Rivest, and Clifford Stein. <<Introduction to Algorithms](https://item.jd.com/10026866638030.html)<br>\n",
    "2. [Charles E. Leiserson, Julian Shun etc. Bit Hacks, Performance Engineering of Software System](https://ocw.mit.edu/courses/electrical-engineering-and-computer-science/6-172-performance-engineering-of-software-systems-fall-2018/lecture-slides/MIT6_172F18_lec3.pdf)<br>\n",
    "3. [Charles E. Leiserson, Julian Shun etc. ANALYSIS OF MULTITHREADED ALGORITHMS, Performance Engineering of Software System](https://ocw.mit.edu/courses/electrical-engineering-and-computer-science/6-172-performance-engineering-of-software-systems-fall-2018/lecture-slides/MIT6_172F18_lec8.pdf)<br>\n",
    "4. [Charles E. Leiserson, Julian Shun etc. Cache-Oblivious Algorithms , Performance Engineering of Software System](https://ocw.mit.edu/courses/electrical-engineering-and-computer-science/6-172-performance-engineering-of-software-systems-fall-2018/lecture-slides/MIT6_172F18_lec15.pdf)<br>"
   ]
  }
 ],
 "metadata": {
  "celltoolbar": "幻灯片",
  "kernelspec": {
   "display_name": "Python 3",
   "language": "python",
   "name": "python3"
  },
  "language_info": {
   "codemirror_mode": {
    "name": "ipython",
    "version": 3
   },
   "file_extension": ".py",
   "mimetype": "text/x-python",
   "name": "python",
   "nbconvert_exporter": "python",
   "pygments_lexer": "ipython3",
   "version": "3.6.10"
  }
 },
 "nbformat": 4,
 "nbformat_minor": 4
}
